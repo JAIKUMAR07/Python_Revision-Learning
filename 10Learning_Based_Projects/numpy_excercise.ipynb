{
 "cells": [
  {
   "cell_type": "code",
   "execution_count": null,
   "metadata": {},
   "outputs": [],
   "source": [
    " "
   ]
  },
  {
   "cell_type": "code",
   "execution_count": 43,
   "metadata": {},
   "outputs": [],
   "source": [
    "import numpy as np\n",
    "s = np.array([\n",
    "    [5, 3, 4, 6, 7, 8, 9, 1, 2],\n",
    "    [6, 7, 2, 1, 9, 5, 3, 4, 8],\n",
    "    [1, 9, 8, 3, 4, 2, 5, 6, 7],\n",
    "    \n",
    "    [8, 5, 9, 7, 6, 1, 4, 2, 3],\n",
    "    [4, 2, 6, 8, 5, 3, 7, 9, 1],\n",
    "    [7, 1, 3, 9, 2, 4, 8, 5, 6],\n",
    "    \n",
    "    [9, 6, 1, 5, 3, 7, 2, 8, 4],\n",
    "    [2, 8, 7, 4, 1, 9, 6, 3, 5],\n",
    "    [3, 4, 5, 2, 8, 6, 1, 7, 9]\n",
    "])"
   ]
  },
  {
   "cell_type": "markdown",
   "metadata": {},
   "source": [
    "1. Sudoki solving  \n",
    "her row ka sum 45 hota hai \n",
    "her col ka sum 45 hota hai"
   ]
  },
  {
   "cell_type": "code",
   "execution_count": 2,
   "metadata": {},
   "outputs": [
    {
     "data": {
      "text/plain": [
       "array([45, 45, 45, 45, 45, 45, 45, 45, 45])"
      ]
     },
     "execution_count": 2,
     "metadata": {},
     "output_type": "execute_result"
    }
   ],
   "source": [
    "s.sum()\n",
    "sum(s)"
   ]
  },
  {
   "cell_type": "code",
   "execution_count": 42,
   "metadata": {},
   "outputs": [
    {
     "name": "stdout",
     "output_type": "stream",
     "text": [
      "Row sum invalid at index 3 with value 44\n",
      "Column sum invalid at index 2 with sum 44\n"
     ]
    }
   ],
   "source": [
    "\n",
    "# Check row sums valid and uniqueness\n",
    "row_sums = np.sum(s, axis=1)\n",
    "\n",
    "for idx in range(9):\n",
    "    row = s[idx]\n",
    "    row_sum = row_sums[idx]\n",
    "\n",
    "    if row_sum != 45:\n",
    "        print(f'Row sum invalid at index {idx} with value {row_sum}')\n",
    "        break\n",
    " \n",
    "    if len(set(row)) != 9:\n",
    "        print(f'Duplicate found in row {idx}')\n",
    "        break\n",
    "else:\n",
    "    print('All row sums are valid and all rows have unique numbers')\n",
    "\n",
    "# Check column sums valid  and uniqueness\n",
    "col_sums = np.sum(s, axis=0)  \n",
    "\n",
    "for idx in range(9):\n",
    "    col = s[:, idx]   \n",
    "    col_sum = col_sums[idx]\n",
    "    \n",
    "    if col_sum != 45:\n",
    "        print(f'Column sum invalid at index {idx} with sum {col_sum}')\n",
    "        break\n",
    "    if len(set(col)) != 9:\n",
    "        print(f'Duplicate found in column {idx}')\n",
    "        break\n",
    "else:\n",
    "    print('All column sums are valid and all columns have unique numbers')"
   ]
  },
  {
   "cell_type": "code",
   "execution_count": null,
   "metadata": {},
   "outputs": [
    {
     "name": "stdout",
     "output_type": "stream",
     "text": [
      "row sum invalid at index 0 with value 46\n"
     ]
    }
   ],
   "source": [
    "# row ka sum dekho  ye hr row ka sum nikalega \n",
    "row_sum = np.sum(s, axis=1)\n",
    "\n",
    "# hr row ka mila hua sum ko check \n",
    "for idx, sum_value in enumerate(row_sum):\n",
    "    if sum_value != 45:\n",
    "        print(f'row sum invalid at index {idx} with value {sum_value}')\n",
    "        break\n",
    "else:\n",
    "    print('all rows sum are valid')\n"
   ]
  },
  {
   "cell_type": "code",
   "execution_count": 29,
   "metadata": {},
   "outputs": [
    {
     "name": "stdout",
     "output_type": "stream",
     "text": [
      "Column sum invalid at index 1 with sum 46\n"
     ]
    }
   ],
   "source": [
    "# Check column sums\n",
    "col_sums = np.sum(s, axis=0)  # Sum along axis 0 for column sums\n",
    "\n",
    "for idx, col_sum in enumerate(col_sums):\n",
    "    if col_sum != 45:\n",
    "        print(f'Column sum invalid at index {idx} with sum {col_sum}')\n",
    "        break\n",
    "else:\n",
    "    print('All column sums valid')\n"
   ]
  },
  {
   "cell_type": "code",
   "execution_count": 5,
   "metadata": {},
   "outputs": [
    {
     "data": {
      "text/plain": [
       "array([[9, 1, 2],\n",
       "       [3, 4, 8],\n",
       "       [5, 6, 7]])"
      ]
     },
     "execution_count": 5,
     "metadata": {},
     "output_type": "execute_result"
    }
   ],
   "source": [
    "#grid accessing \n",
    "s[0:3, 0:3]\n",
    "\n",
    "s[0:3, 3:6]\n",
    "\n",
    "s[0:3, 6:9]"
   ]
  },
  {
   "cell_type": "code",
   "execution_count": null,
   "metadata": {},
   "outputs": [],
   "source": []
  },
  {
   "cell_type": "code",
   "execution_count": 19,
   "metadata": {},
   "outputs": [
    {
     "name": "stdout",
     "output_type": "stream",
     "text": [
      "[[5 3 4 6 7 8 9 1 2]\n",
      " [6 7 2 1 9 5 3 4 8]\n",
      " [1 9 8 3 4 2 5 6 7]\n",
      " [5 3 4 6 7 8 9 1 2]\n",
      " [6 7 2 1 9 5 3 4 8]\n",
      " [1 9 8 3 4 2 5 6 7]\n",
      " [5 3 4 6 7 8 9 1 2]\n",
      " [6 7 2 1 9 5 3 4 8]\n",
      " [1 9 8 3 4 2 5 6 7]]\n",
      "Grid at position (0, 0):\n",
      "[[5 3 4]\n",
      " [6 7 2]\n",
      " [1 9 8]]\n",
      "Sum: 45\n",
      "Valid numbers (1-9): Yes\n",
      "All numbers unique: Yes\n",
      "Sum equals 45: Yes\n",
      "Grid is valid: Yes\n",
      "\n",
      "Grid at position (0, 1):\n",
      "[[6 7 8]\n",
      " [1 9 5]\n",
      " [3 4 2]]\n",
      "Sum: 45\n",
      "Valid numbers (1-9): Yes\n",
      "All numbers unique: Yes\n",
      "Sum equals 45: Yes\n",
      "Grid is valid: Yes\n",
      "\n",
      "Grid at position (0, 2):\n",
      "[[9 1 2]\n",
      " [3 4 8]\n",
      " [5 6 7]]\n",
      "Sum: 45\n",
      "Valid numbers (1-9): Yes\n",
      "All numbers unique: Yes\n",
      "Sum equals 45: Yes\n",
      "Grid is valid: Yes\n",
      "\n",
      "Grid at position (1, 0):\n",
      "[[5 3 4]\n",
      " [6 7 2]\n",
      " [1 9 8]]\n",
      "Sum: 45\n",
      "Valid numbers (1-9): Yes\n",
      "All numbers unique: Yes\n",
      "Sum equals 45: Yes\n",
      "Grid is valid: Yes\n",
      "\n",
      "Grid at position (1, 1):\n",
      "[[6 7 8]\n",
      " [1 9 5]\n",
      " [3 4 2]]\n",
      "Sum: 45\n",
      "Valid numbers (1-9): Yes\n",
      "All numbers unique: Yes\n",
      "Sum equals 45: Yes\n",
      "Grid is valid: Yes\n",
      "\n",
      "Grid at position (1, 2):\n",
      "[[9 1 2]\n",
      " [3 4 8]\n",
      " [5 6 7]]\n",
      "Sum: 45\n",
      "Valid numbers (1-9): Yes\n",
      "All numbers unique: Yes\n",
      "Sum equals 45: Yes\n",
      "Grid is valid: Yes\n",
      "\n",
      "Grid at position (2, 0):\n",
      "[[5 3 4]\n",
      " [6 7 2]\n",
      " [1 9 8]]\n",
      "Sum: 45\n",
      "Valid numbers (1-9): Yes\n",
      "All numbers unique: Yes\n",
      "Sum equals 45: Yes\n",
      "Grid is valid: Yes\n",
      "\n",
      "Grid at position (2, 1):\n",
      "[[6 7 8]\n",
      " [1 9 5]\n",
      " [3 4 2]]\n",
      "Sum: 45\n",
      "Valid numbers (1-9): Yes\n",
      "All numbers unique: Yes\n",
      "Sum equals 45: Yes\n",
      "Grid is valid: Yes\n",
      "\n",
      "Grid at position (2, 2):\n",
      "[[9 1 2]\n",
      " [3 4 8]\n",
      " [5 6 7]]\n",
      "Sum: 45\n",
      "Valid numbers (1-9): Yes\n",
      "All numbers unique: Yes\n",
      "Sum equals 45: Yes\n",
      "Grid is valid: Yes\n",
      "\n"
     ]
    }
   ],
   "source": [
    "#ab pura grid ko loop ke through access krna \n",
    "print(s)\n",
    "for i in range(0,9,3):\n",
    "    for j in range(0,9,3):\n",
    "\n",
    "        # ek ek grid ko lena\n",
    "        n = s[i:i+3, j:j+3]\n",
    "        grid_sum = n.sum()\n",
    "        \n",
    "        # Check  grid contains valid no.  (1-9)\n",
    "        valid_numbers = all((1 <= x <= 9) for x in n.flatten())\n",
    "        \n",
    "        # Check if numbers are unique in the grid\n",
    "        unique_numbers = len(set(n.flatten())) == 9\n",
    "        \n",
    "        # Check if sum equals 45 \n",
    "        valid_sum = grid_sum == 45\n",
    "        \n",
    "        print(f\"Grid at position ({i//3}, {j//3}):\")\n",
    "        print(n)\n",
    "        print(f\"Sum: {grid_sum}\")\n",
    "        \n",
    "        # Print validation results\n",
    "        valid_numbers_text = \"Yes\" if valid_numbers else \"No\"\n",
    "        unique_numbers_text = \"Yes\" if unique_numbers else \"No\"\n",
    "        valid_sum_text = \"Yes\" if valid_sum else \"No\"\n",
    "        grid_valid_text = \"Yes\" if (valid_numbers and unique_numbers and valid_sum) else \"No\"\n",
    "        \n",
    "        print(f\"Valid numbers (1-9): {valid_numbers_text}\")\n",
    "        print(f\"All numbers unique: {unique_numbers_text}\")\n",
    "        print(f\"Sum equals 45: {valid_sum_text}\")\n",
    "        print(f\"Grid is valid: {grid_valid_text}\\n\")\n"
   ]
  },
  {
   "cell_type": "code",
   "execution_count": 3,
   "metadata": {},
   "outputs": [],
   "source": [
    "s = np.array([\n",
    "    [5, 3, 4, 6, 7, 8, 9, 1, 2],\n",
    "    [6, 7, 2, 1, 9, 5, 3, 4, 8],\n",
    "    [1, 9, 8, 3, 4, 2, 5, 6, 7],\n",
    "    \n",
    "    [5, 3, 4, 6, 7, 8, 9, 1, 2],\n",
    "    [6, 7, 2, 1, 9, 5, 3, 4, 8],\n",
    "    [1, 9, 8, 3, 4, 2, 5, 6, 7],\n",
    "    \n",
    "    [5, 3, 4, 6, 7, 8, 9, 1, 2],\n",
    "    [6, 7, 2, 1, 9, 5, 3, 4, 8],\n",
    "    [1, 9, 8, 3, 4, 2, 5, 6, 7],\n",
    "])"
   ]
  },
  {
   "cell_type": "code",
   "execution_count": null,
   "metadata": {},
   "outputs": [],
   "source": [
    "import numpy as np\n",
    "\n",
    "def check_sudoku(grid):\n",
    "    numbers = set([1,2,3,4,5,6,7,8,9])\n",
    "    \n",
    "    # Look at each row\n",
    "    for row in range(9):\n",
    "        if set(grid[row, :]) != numbers:\n",
    "            print(f\"Row {row+1} has wrong numbers: {grid[row, :]}\")\n",
    "            return False\n",
    "            \n",
    "    # Look at each column    \n",
    "    for col in range(9):\n",
    "        if set(grid[:, col]) != numbers:\n",
    "            print(f\"Column {col+1} has wrong numbers: {grid[:, col]}\")\n",
    "            return False\n",
    "    \n",
    "    # Look at each 3x3 box\n",
    "    for box_row in [0,3,6]:\n",
    "        for box_col in [0,3,6]:\n",
    "            # Get numbers in current box\n",
    "            box = grid[box_row:box_row+3, box_col:box_col+3]\n",
    "            box_numbers = set(box.flatten())\n",
    "            \n",
    "            if box_numbers != numbers:\n",
    "                print(f\"Box at position ({box_row//3},{box_col//3}) has wrong numbers: {box.flatten()}\")\n",
    "                return False\n",
    "                \n",
    "    return True\n",
    "\n",
    "# Check if solution is valid\n",
    "if check_sudoku(s):\n",
    "    print(\"✅ Correct! Valid Sudoku solution!\")\n",
    "else:\n",
    "    print(\"❌ Wrong! Not a valid solution.\")\n"
   ]
  },
  {
   "cell_type": "markdown",
   "metadata": {},
   "source": []
  },
  {
   "cell_type": "markdown",
   "metadata": {},
   "source": []
  },
  {
   "cell_type": "code",
   "execution_count": 7,
   "metadata": {},
   "outputs": [],
   "source": [
    "import numpy as np\n",
    "\n",
    "# Columns: [Age, Math Marks, Science Marks]\n",
    "data = np.array([\n",
    "    [18, 85, 78],   # Student 1\n",
    "    [19, 92, 88],   # Student 2\n",
    "    [17, 76, 95],   # Student 3\n",
    "    [18, 65, 70],   # Student 4\n",
    "    [20, 90, 85]    # Student 5\n",
    "])"
   ]
  },
  {
   "cell_type": "code",
   "execution_count": 8,
   "metadata": {},
   "outputs": [
    {
     "data": {
      "text/plain": [
       "(5, 3)"
      ]
     },
     "execution_count": 8,
     "metadata": {},
     "output_type": "execute_result"
    }
   ],
   "source": [
    "#Get the shape of the matrix.\n",
    "\n",
    "data.shape"
   ]
  },
  {
   "cell_type": "code",
   "execution_count": 9,
   "metadata": {},
   "outputs": [
    {
     "data": {
      "text/plain": [
       "18.4"
      ]
     },
     "execution_count": 9,
     "metadata": {},
     "output_type": "execute_result"
    }
   ],
   "source": [
    "# avg mark  \n",
    "np.mean(data[:, 0])"
   ]
  },
  {
   "cell_type": "code",
   "execution_count": 10,
   "metadata": {},
   "outputs": [
    {
     "data": {
      "text/plain": [
       "array([85, 92, 76, 65, 90])"
      ]
     },
     "execution_count": 10,
     "metadata": {},
     "output_type": "execute_result"
    }
   ],
   "source": [
    "# avg math mark \n",
    "data[: , 1]"
   ]
  },
  {
   "cell_type": "code",
   "execution_count": 11,
   "metadata": {},
   "outputs": [
    {
     "data": {
      "text/plain": [
       "95"
      ]
     },
     "execution_count": 11,
     "metadata": {},
     "output_type": "execute_result"
    }
   ],
   "source": [
    "# avg hgihest mark \n",
    "\n",
    "np.max(data[:,2])"
   ]
  },
  {
   "cell_type": "code",
   "execution_count": 12,
   "metadata": {},
   "outputs": [
    {
     "data": {
      "text/plain": [
       "array([[19, 92, 88]])"
      ]
     },
     "execution_count": 12,
     "metadata": {},
     "output_type": "execute_result"
    }
   ],
   "source": [
    "#set details of the student who scored more than 90 marks\n",
    "data[data[:, 1] > 90]\n"
   ]
  },
  {
   "cell_type": "code",
   "execution_count": 13,
   "metadata": {},
   "outputs": [
    {
     "name": "stdout",
     "output_type": "stream",
     "text": [
      "[[18 90 78]\n",
      " [19 97 88]\n",
      " [17 81 95]\n",
      " [18 70 70]\n",
      " [20 95 85]]\n"
     ]
    }
   ],
   "source": [
    "#increment math marks of all students by 5 \n",
    "\n",
    "data[:,1]+=5\n",
    "print(data)"
   ]
  },
  {
   "cell_type": "code",
   "execution_count": null,
   "metadata": {},
   "outputs": [],
   "source": []
  },
  {
   "cell_type": "code",
   "execution_count": 14,
   "metadata": {},
   "outputs": [
    {
     "data": {
      "text/plain": [
       "4"
      ]
     },
     "execution_count": 14,
     "metadata": {},
     "output_type": "execute_result"
    }
   ],
   "source": [
    "data[:,0]<=19 # boolean value return krega \n",
    "len(data[data[:,0]<=19])"
   ]
  },
  {
   "cell_type": "code",
   "execution_count": 15,
   "metadata": {},
   "outputs": [
    {
     "data": {
      "text/plain": [
       "array([86.6, 83.2])"
      ]
     },
     "execution_count": 15,
     "metadata": {},
     "output_type": "execute_result"
    }
   ],
   "source": [
    "#calculate the average marks in each sub column wisee means \n",
    "\n",
    "np.mean(data[:,1:],axis = 0)"
   ]
  },
  {
   "cell_type": "code",
   "execution_count": 16,
   "metadata": {},
   "outputs": [
    {
     "data": {
      "text/plain": [
       "array([[19, 97, 88],\n",
       "       [17, 81, 95],\n",
       "       [20, 95, 85]])"
      ]
     },
     "execution_count": 16,
     "metadata": {},
     "output_type": "execute_result"
    }
   ],
   "source": [
    "# get who scored atleast 80 in bot hsub \n",
    "\n",
    "data[(data[:,1]>=80) & (data[:,2]>=80)]"
   ]
  },
  {
   "cell_type": "code",
   "execution_count": 17,
   "metadata": {},
   "outputs": [
    {
     "data": {
      "text/plain": [
       "array([[18, 90,  0],\n",
       "       [19, 97, 88],\n",
       "       [17, 81, 95],\n",
       "       [18, 70,  0],\n",
       "       [20, 95, 85]])"
      ]
     },
     "execution_count": 17,
     "metadata": {},
     "output_type": "execute_result"
    }
   ],
   "source": [
    "#replace al science mark <75 with 0 \n",
    "data[:,2][data[:,2] < 80] = 0\n",
    "data"
   ]
  }
 ],
 "metadata": {
  "kernelspec": {
   "display_name": "Python 3",
   "language": "python",
   "name": "python3"
  },
  "language_info": {
   "codemirror_mode": {
    "name": "ipython",
    "version": 3
   },
   "file_extension": ".py",
   "mimetype": "text/x-python",
   "name": "python",
   "nbconvert_exporter": "python",
   "pygments_lexer": "ipython3",
   "version": "3.13.3"
  }
 },
 "nbformat": 4,
 "nbformat_minor": 2
}

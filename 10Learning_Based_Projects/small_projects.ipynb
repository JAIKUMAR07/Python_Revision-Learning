{
 "cells": [
  {
   "cell_type": "markdown",
   "metadata": {},
   "source": [
    "Mobile Reacharge system "
   ]
  },
  {
   "cell_type": "code",
   "execution_count": 2,
   "metadata": {},
   "outputs": [
    {
     "name": "stdout",
     "output_type": "stream",
     "text": [
      "recharge sussesfully done\n",
      "your current ballance is:  120.0\n"
     ]
    }
   ],
   "source": [
    "\n",
    "ballance = int(input(\"Enter your ballance: \"))\n",
    "\n",
    "recharge = int(input(\"Enter your recharge amount: \"))\n",
    "\n",
    "disscount = 10\n",
    "disscount = ballance*disscount/100\n",
    "\n",
    "if( recharge > ballance ):\n",
    "    print(\"you not have enough ballance\")\n",
    "else:\n",
    "\n",
    "    total = ballance  - ( recharge - disscount )\n",
    "    print(\"recharge sussesfully done\")\n",
    "    print(\"your current ballance is: \",total)\n"
   ]
  },
  {
   "cell_type": "code",
   "execution_count": null,
   "metadata": {},
   "outputs": [],
   "source": []
  },
  {
   "cell_type": "markdown",
   "metadata": {},
   "source": [
    "=============================================================================\n"
   ]
  },
  {
   "cell_type": "markdown",
   "metadata": {},
   "source": [
    "ROOM BOOKING MANAGEMENT SYSTEM"
   ]
  },
  {
   "cell_type": "code",
   "execution_count": 5,
   "metadata": {},
   "outputs": [
    {
     "name": "stdout",
     "output_type": "stream",
     "text": [
      "Welcome in  Hotel Service \n",
      "our discount offers:\n",
      "regular : \n",
      " if booking for min 5 days : 10%\n",
      "delux : \n",
      " if booking for min 3 days: 12% \n",
      "premium : \n",
      " if booking for min 2 days: 14% \n",
      "Thankyou for chooking our  regular room\n",
      "for 5 days \n",
      "Discount amount is :  500.0\n",
      "Total amount for pay is :  4500.0\n"
     ]
    }
   ],
   "source": [
    "print(\"Welcome in  Hotel Service \")\n",
    "print(\"our discount offers:\")\n",
    "print(\"regular : \\n if booking for min 5 days : 10%\")\n",
    "print(\"delux : \\n if booking for min 3 days: 12% \")\n",
    "print(\"premium : \\n if booking for min 2 days: 14% \")\n",
    "\n",
    "room_type = str(input(\"choose   room type \\n regular or Delux or Premium \\n your room ? : \"))\n",
    "days = int(input(\"how many days you want to stay? : \"))\n",
    "\n",
    "regular = 1000\n",
    "delux = 2000\n",
    "premium = 3000\n",
    "\n",
    "print(\"Thankyou for chooking our  \" + room_type + \" room\" )\n",
    "print(\"for \" + str(days) + \" days \")\n",
    "\n",
    "if room_type == \"regular\":\n",
    "    if days >= 5:\n",
    "        total = regular * days\n",
    "        discount = (total * 10) / 100\n",
    "        total = total - discount\n",
    "        print(\"Discount amount is : \", discount)\n",
    "        print(\"Total amount for pay is : \", total)\n",
    "    else:\n",
    "        print(\"Sorry you can't get discount\")\n",
    "        total = regular * days\n",
    "        print(\"Total amount for pay is : \", total)  \n",
    "\n",
    "elif room_type == \"delux\":\n",
    "    if days >= 3:\n",
    "        total = delux * days\n",
    "        discount = (total * 12) / 100\n",
    "        total = total - discount\n",
    "        print(\"Discount amount is : \", discount)\n",
    "        print(\"Total amount for pay is : \", total)\n",
    "    else:\n",
    "        print(\"Sorry you can't get discount\")\n",
    "        total = regular * days\n",
    "        print(\"Total amount for pay is : \", total)     \n",
    "elif room_type == \"premium\":\n",
    "    if days >= 2:\n",
    "        total = premium * days\n",
    "        discount = (total * 14) / 100\n",
    "        total = total - discount\n",
    "        print(\"Discount amount is : \", discount)\n",
    "        print(\"Total amount for pay is : \", total)\n",
    "    else:\n",
    "        print(\"Sorry you can't get discount\")\n",
    "        total = regular * days\n",
    "        print(\"Total amount for pay is : \", total) \n",
    "else:\n",
    "    print(\" please select Room Type among given \")"
   ]
  },
  {
   "cell_type": "markdown",
   "metadata": {},
   "source": [
    "=============================================================================="
   ]
  },
  {
   "cell_type": "markdown",
   "metadata": {},
   "source": [
    "Temperature Monitoring System"
   ]
  },
  {
   "cell_type": "code",
   "execution_count": 11,
   "metadata": {},
   "outputs": [
    {
     "name": "stdout",
     "output_type": "stream",
     "text": [
      "Room temperature is normal.\n"
     ]
    }
   ],
   "source": [
    "room_temp = float(input(\"Enter the room temperature: \")) \n",
    "\n",
    "thresold_min = 10 \n",
    "thresold_max = 45 \n",
    "\n",
    "if  thresold_min <= room_temp  and room_temp  <= thresold_max:\n",
    "    print(\"Room temperature is normal.\")\n",
    "\n",
    "if room_temp < thresold_min:\n",
    "    print(\"Alert!!!!!  Room temperature is too cold.\")\n",
    "\n",
    "if room_temp > thresold_max:\n",
    "    print(\"Alert!!!! Room temperature is too hot.\")"
   ]
  },
  {
   "cell_type": "markdown",
   "metadata": {},
   "source": [
    "TOP SCORER FNDER \n",
    "\n",
    "write a fucntion top_scorer() that accepta a dictionary of students name with listes of marks and return the name of the student with the highest total marks "
   ]
  },
  {
   "cell_type": "code",
   "execution_count": null,
   "metadata": {},
   "outputs": [
    {
     "name": "stdout",
     "output_type": "stream",
     "text": [
      "The top scorer is: saurabh\n"
     ]
    }
   ],
   "source": [
    "\n",
    "def top_scorer(students):\n",
    "    highest_score = 0\n",
    "    top_scorer = \"\"\n",
    "    for student, marks in students.items():\n",
    "        total_marks = sum(marks)\n",
    "        if total_marks > highest_score:\n",
    "            highest_score = total_marks\n",
    "            top_scorer = student\n",
    "    return top_scorer\n",
    "\n",
    "# dictionary of students and their marks\n",
    "students = {\n",
    "    \"jaikumar\": [90, 80, 70],\n",
    "    \"sachin\": [80, 90, 85],\n",
    "    \"rahul\": [75, 85, 90],  \n",
    "    \"saurabh\": [95, 90, 95],\n",
    "    \"vishal\": [80, 85, 90],\n",
    "    \"anurag\": [90, 95, 90],\n",
    "    \"suresh\": [85, 90, 85]\n",
    "}\n",
    "\n",
    " \n",
    "top_scorer = top_scorer(students)\n",
    "print(\"The top scorer is:\", top_scorer)\n"
   ]
  },
  {
   "cell_type": "markdown",
   "metadata": {},
   "source": [
    "customer purchase sumary \n",
    "create a fucntion \n",
    "purchase_summary() that takes nested dictionary of customer and their items purches (with price) and returns the total amount spent by each customer."
   ]
  },
  {
   "cell_type": "code",
   "execution_count": 4,
   "metadata": {},
   "outputs": [
    {
     "name": "stdout",
     "output_type": "stream",
     "text": [
      " 1 Customer jaikumar: Total amount spent = 230\n",
      " 2 Customer suresh: Total amount spent = 470\n",
      " 3 Customer Bhupesh: Total amount spent = 220\n",
      " 4 Customer Anand: Total amount spent = 330\n"
     ]
    }
   ],
   "source": [
    "\n",
    "def purchase_summary(customer):\n",
    "    i = 1\n",
    "    for customer_name, items in customer.items():\n",
    "        total_amount = sum(items.values())\n",
    "        print(f\" {i} Customer {customer_name}: Total amount spent = {total_amount}\")\n",
    "        i += 1\n",
    "    \n",
    "customer = {\n",
    "       \"jaikumar\": {\n",
    "        \"sabun\": 200,\n",
    "        \"kurkure\": 30,\n",
    "         \n",
    "    },\n",
    "    \"suresh\": {\n",
    "        \"copy\": 100,\n",
    "        \"pen\": 330,\n",
    "        \"scale\": 40\n",
    "    },\n",
    "    \"Bhupesh\": {\n",
    "        \"goggle\": 20,\n",
    "        \"cover\": 200\n",
    "    },\n",
    "    \"Anand\": {\n",
    "        \"shampoo\": 100,\n",
    "        \"toothpaste\": 200,\n",
    "        \"agarbatti\": 30\n",
    "    }\n",
    "}\n",
    "\n",
    "purchase_summary(customer)"
   ]
  },
  {
   "cell_type": "markdown",
   "metadata": {},
   "source": [
    "Linrary book management system\n",
    "implement two fucntion : add_book(lirbary, title ,author) and remove_book(library, title) to manage a library dictonary where the title is the key and author is the value "
   ]
  },
  {
   "cell_type": "code",
   "execution_count": null,
   "metadata": {},
   "outputs": [
    {
     "name": "stdout",
     "output_type": "stream",
     "text": [
      "library management system\n",
      "press 1 for adding a book\n",
      "press 2 for removing a book \n",
      "press 3 for displaying all books \n",
      "press 4 for exit \n",
      "book added successfully\n",
      "library management system\n",
      "press 1 for adding a book\n",
      "press 2 for removing a book \n",
      "press 3 for displaying all books \n",
      "press 4 for exit \n",
      "library book list : \n",
      "title : cindrela, author : rahul\n",
      "library management system\n",
      "press 1 for adding a book\n",
      "press 2 for removing a book \n",
      "press 3 for displaying all books \n",
      "press 4 for exit \n",
      "library book list : \n",
      "title : cindrela, author : rahul\n",
      "library management system\n",
      "press 1 for adding a book\n",
      "press 2 for removing a book \n",
      "press 3 for displaying all books \n",
      "press 4 for exit \n",
      "thank you for using the library management system \n"
     ]
    }
   ],
   "source": [
    " \n",
    "\n",
    "\n",
    "def add_book(library, title, author):\n",
    "    library[title] = author\n",
    "    print(\"book added successfully\")\n",
    "\n",
    "def remove_book(library, title):\n",
    "    if title in library:\n",
    "        del library[title]\n",
    "        print(\"book removed ho gya \")\n",
    "    else:\n",
    "        print(\"book nahi mil rha \")\n",
    "\n",
    "def display_books(library):\n",
    "        print(\"library book list : \")\n",
    "        i=1\n",
    "        for title, author in library.items():\n",
    "            print(f\"title : {title}, author : {author}\")\n",
    "            i+=1\n",
    "\n",
    "# empty dictionary for books \n",
    "library = {}\n",
    "\n",
    "# ====================     system       ===============================================\n",
    "while True:\n",
    "    print(\"library management system\")\n",
    "    print(\"press 1 for adding a book\")\n",
    "    print(\"press 2 for removing a book \")\n",
    "    print(\"press 3 for displaying all books \")\n",
    "    print(\"press 4 for exit \")\n",
    "\n",
    "    choice = int(input(\"enter your choice : \"))\n",
    "\n",
    "    if choice == 1:\n",
    "        title = input(\"enter the title of the book : \")\n",
    "        author = input(\"enter the author of the book : \")\n",
    "        add_book(library, title, author)\n",
    "\n",
    "    elif choice == 2:\n",
    "        title = input(\"enter the title of the book you want to remove : \")\n",
    "        remove_book(library, title)\n",
    "\n",
    "    elif choice == 3:\n",
    "        display_books(library)\n",
    "\n",
    "    elif choice == 4:\n",
    "        print(\"thank you for using the library management system \")\n",
    "        break\n",
    "    else:\n",
    "        print(\"invalid choice please try again \")"
   ]
  },
  {
   "cell_type": "markdown",
   "metadata": {},
   "source": [
    "Restaurent Billing System  create a function geenrate_bill(menu,orders) that calculates the total bill using dictionary of menu items with prices and an order dictionary containing items and quantities."
   ]
  },
  {
   "cell_type": "code",
   "execution_count": null,
   "metadata": {},
   "outputs": [
    {
     "name": "stdout",
     "output_type": "stream",
     "text": [
      "your Total bill: Rs. 450 \n",
      "Thank you for vising our restaurent!! \n"
     ]
    }
   ],
   "source": [
    "\n",
    "def generate_bill(menu,orders):\n",
    "    total_bill = 0\n",
    "    #order se items  nd quantity nikalna \n",
    "    for item, quantity in orders.items():\n",
    "        #menu se price nikalna     \n",
    "        if item in menu:\n",
    "            price = menu[item]\n",
    "            total_bill += price * quantity\n",
    "        else:\n",
    "            print(f\"Item '{item}' not found in the menu.\")\n",
    "\n",
    "    return total_bill\n",
    "\n",
    " \n",
    "menu = {\n",
    "    \"Burger\": 50,\n",
    "    \"Pizza\": 100,\n",
    "    \"Salad\": 30,\n",
    "    \"Pasta\": 80,\n",
    "    \"mocktale\": 20,\n",
    "    \"paneer Chilli\": 120,\n",
    "    \"biryani\": 150,\n",
    "    \"momos\": 30,\n",
    "}\n",
    "\n",
    "orders = {\n",
    "    \"Burger\": 2,\n",
    "    \"Pizza\": 1,\n",
    "    \"Salad\": 3,\n",
    "    \"Pasta\": 2,\n",
    "}\n",
    "\n",
    "total_bill = generate_bill(menu, orders)\n",
    "\n",
    "print(f\"your Total bill: Rs. {total_bill} \")\n",
    "print(\"Thank you for vising our restaurent!! \")"
   ]
  },
  {
   "cell_type": "markdown",
   "metadata": {},
   "source": []
  }
 ],
 "metadata": {
  "kernelspec": {
   "display_name": "base",
   "language": "python",
   "name": "python3"
  },
  "language_info": {
   "codemirror_mode": {
    "name": "ipython",
    "version": 3
   },
   "file_extension": ".py",
   "mimetype": "text/x-python",
   "name": "python",
   "nbconvert_exporter": "python",
   "pygments_lexer": "ipython3",
   "version": "3.12.7"
  }
 },
 "nbformat": 4,
 "nbformat_minor": 2
}

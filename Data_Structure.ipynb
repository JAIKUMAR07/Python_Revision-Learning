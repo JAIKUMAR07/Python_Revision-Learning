{
 "cells": [
  {
   "cell_type": "markdown",
   "metadata": {},
   "source": [
    "LIST : \n",
    "    - it is a collection of items\n",
    "    - it is mutable\n",
    "    - it can contain different data types[hetrogenous]\n",
    "    - it can contain duplicate items\n",
    "    - it can contain nested lists\n",
    "    - it can be accessed using index\n",
    "    - it is ordered data structure\n",
    "    - it can be sliced\n",
    "syntax :\n",
    "    - []\n",
    "    -fruites = ['apple','banana','orange']\n",
    "    -fruites = ['apple','banana','orange',1,2,3,4,5]\n",
    "    -fruites = ['apple','banana','orange',1,2,3,4,5,[1,2,3,4,5]]"
   ]
  },
  {
   "cell_type": "code",
   "execution_count": 7,
   "metadata": {},
   "outputs": [
    {
     "name": "stdout",
     "output_type": "stream",
     "text": [
      "hello\n",
      "[14, 15, 17]\n",
      "17\n"
     ]
    }
   ],
   "source": [
    "#List creation \n",
    "a = [ 12, 13 , 14, 15 ,17 , print(\"hello\"), True]\n",
    "\n",
    "# list me clicing \n",
    "print(a[2:5:1])\n",
    "\n",
    "#accsing negative index\n",
    "print(a[-3])"
   ]
  },
  {
   "cell_type": "markdown",
   "metadata": {},
   "source": [
    "traverse list "
   ]
  },
  {
   "cell_type": "code",
   "execution_count": null,
   "metadata": {},
   "outputs": [],
   "source": [
    "a = [1,3,4,5,7.8]\n",
    "\n",
    "# 1st way accesing through index \n",
    "for i in range(len(a)):\n",
    "    print(a[i])\n",
    "# 2nd way accessing through value \n",
    "# down fall : isme value bs access kr skte h index nhi\n",
    "for i in a:\n",
    "    print(i)\n",
    " \n",
    "print(dir(a))"
   ]
  },
  {
   "cell_type": "code",
   "execution_count": null,
   "metadata": {},
   "outputs": [
    {
     "name": "stdout",
     "output_type": "stream",
     "text": [
      "[1, 3, 2, 3, 2, 3, 2, 3, 2, 3, 2, 2, 2, 2, 2, 2, 2, 3, 4, 5, 7.8, 102, 102, 102, 102, 102, 102, 102, 102, 102, 102, 102]\n",
      "[1, 3, 2, 3, 2, 3, 2, 3, 2, 3, 2, 3, 2, 2, 2, 2, 2, 2, 2, 3, 4, 5, 7.8, 102, 102, 102, 102, 102, 102, 102, 102, 102, 102]\n"
     ]
    }
   ],
   "source": [
    "a.append(102)\n",
    "print(a)\n",
    " \n",
    "a.insert(1,3)\n",
    "\n",
    "a.remove(102)  # first occurance remove \n",
    "print(a)\n",
    " "
   ]
  },
  {
   "cell_type": "code",
   "execution_count": 1,
   "metadata": {},
   "outputs": [
    {
     "name": "stdout",
     "output_type": "stream",
     "text": [
      "[2, 3, 30, 5, 6, 1]\n"
     ]
    }
   ],
   "source": [
    "#mutable data \n",
    "\n",
    "l= [2,3,4,5,6,1]\n",
    "l[2]= 30\n",
    "print(l)"
   ]
  },
  {
   "cell_type": "markdown",
   "metadata": {},
   "source": [
    "Practice set "
   ]
  },
  {
   "cell_type": "code",
   "execution_count": 6,
   "metadata": {},
   "outputs": [
    {
     "name": "stdout",
     "output_type": "stream",
     "text": [
      "here is the prosivie number1 2 3 4 5 6 7 8 9 10 here is the negative  number 1 2 3 4 5 6 7 8 9 10 -1 -2 -3 -4 -5 -6 -7 -8 -9 -10 "
     ]
    }
   ],
   "source": [
    "# pritn +ve and -ve numbers from the lsit \n",
    "\n",
    "l = [1,2,3,4,5,6,7,8,9,10,-1,-2,-3,-4,-5,-6,-7,-8,-9,-10]\n",
    "print(\"here is the prosivie number\", end= \"\")\n",
    "for i in l:\n",
    "    if i > 0:\n",
    "        print(i, end = \" \")\n",
    "   \n",
    "# print even and odd numbers from the list\n",
    "print(\"here is the negative  number\" , end =\" \")\n",
    "for i in l:\n",
    "    if i > 0:\n",
    "        print(i, end = \" \")\n",
    "    else:\n",
    "        print(i, end = \" \")\n"
   ]
  },
  {
   "cell_type": "code",
   "execution_count": 7,
   "metadata": {},
   "outputs": [
    {
     "name": "stdout",
     "output_type": "stream",
     "text": [
      "30.0\n"
     ]
    }
   ],
   "source": [
    "# determine the avg of a list of numbers\n",
    "\n",
    "l = [ 10 ,20 ,30 ,40 ,50]\n",
    "sum =0; \n",
    "for i in l : \n",
    "     sum+=i\n",
    "avg = sum/len(l)\n",
    "print(avg)"
   ]
  },
  {
   "cell_type": "code",
   "execution_count": 5,
   "metadata": {},
   "outputs": [
    {
     "name": "stdout",
     "output_type": "stream",
     "text": [
      "30\n"
     ]
    }
   ],
   "source": [
    "# find the gratest element in the list \n",
    "l = [ 10 ,20 ,30 ,10 ,20,25,10,30,25,30]\n",
    "largest = l[0]\n",
    "sec_largest = l[0] \n",
    "\n",
    "for i in l :\n",
    "    if i  > largest:\n",
    "        sec_largest = largest\n",
    "        largest = i\n",
    "    elif i > sec_largest:\n",
    "        sec_largest = i\n",
    "\n",
    "print(sec_largest)"
   ]
  },
  {
   "cell_type": "code",
   "execution_count": null,
   "metadata": {},
   "outputs": [
    {
     "name": "stdout",
     "output_type": "stream",
     "text": [
      "Sorted\n"
     ]
    }
   ],
   "source": [
    "a = [12 ,13 ,14,15,16,17,18,19,20]\n",
    "\n",
    "for i in range(len(a)-1):\n",
    "    if a[i]< a[i+1]:\n",
    "        continue\n",
    "    else:\n",
    "        print(\"Not sorted\")\n",
    "        break\n",
    "else: print(\"Sorted\")\n"
   ]
  },
  {
   "cell_type": "markdown",
   "metadata": {},
   "source": [
    "==============================================================================================================\n",
    "\n",
    "   TUPLES \n",
    "   tupes are immutable\n",
    "   tuples are ordered\n",
    "   tuples can contain duplicate values\n",
    "   tuples are indexed\n",
    "   tuples are iterable\n",
    "   tuples are heterogeneous\n",
    "   tuples are faster than lists\n",
    "   syntax : t = (1,2,3,4,5)"
   ]
  },
  {
   "cell_type": "code",
   "execution_count": null,
   "metadata": {},
   "outputs": [
    {
     "name": "stdout",
     "output_type": "stream",
     "text": [
      "2\n"
     ]
    }
   ],
   "source": [
    "t = (1,2,3,4,5,5,5)\n",
    "count = t.count(5)\n",
    "print(count)\n",
    "\n",
    "index = t.index(5)\n",
    "print(index)\n",
    "\n",
    "  \n",
    "\n",
    "t = (1,2,3,4,5)\n",
    "print(t)\n",
    "print(t[0])\n",
    "print(t[1:3])\n",
    "print(t[2:])"
   ]
  },
  {
   "cell_type": "code",
   "execution_count": 18,
   "metadata": {},
   "outputs": [
    {
     "name": "stdout",
     "output_type": "stream",
     "text": [
      "<class 'int'>\n",
      "<class 'tuple'>\n",
      "1\n",
      "2\n",
      "3\n",
      "4\n"
     ]
    }
   ],
   "source": [
    "a,b,c,d = (1,2,3,4)\n",
    "t = (a)\n",
    "# kyuki single value hai to comma lagana jaruri hai\n",
    "print(type(t))\n",
    "t = (a,)\n",
    "print(type(t))\n",
    "print(a)\n",
    "print(b)\n",
    "print(c)\n",
    "print(d)    "
   ]
  },
  {
   "cell_type": "markdown",
   "metadata": {},
   "source": [
    "SETS:\n",
    "-set is a data structure\n",
    "-it is a mutable \n",
    "-can not have duplicate value \n",
    "- it is unordered way means not have any index \n",
    "- it  \n",
    "-use {} to declare  \n",
    "-if you create empty {} set so it not it would be dictionary \n",
    "\n"
   ]
  },
  {
   "cell_type": "code",
   "execution_count": 17,
   "metadata": {},
   "outputs": [
    {
     "name": "stdout",
     "output_type": "stream",
     "text": [
      "{1, 3, 4, 5, 24, 'hello'}\n",
      "1\n",
      "3\n",
      "4\n",
      "5\n",
      "24\n",
      "hello\n"
     ]
    }
   ],
   "source": [
    "s = {1,24,\"hello\",4, 3,4,5} \n",
    "# isme hello aage pichhe aa skta hai  \n",
    "# jaruri nhi sisi order me data aaye dekho yaha sorted   way me aa rha data print me \n",
    "print(s)\n",
    "for i in s:\n",
    "    print(i)"
   ]
  },
  {
   "cell_type": "code",
   "execution_count": 18,
   "metadata": {},
   "outputs": [
    {
     "name": "stdout",
     "output_type": "stream",
     "text": [
      "{3, 4, 5, 24, 'hello'}\n",
      "{3, 4, 5, 24, 'hello'}\n",
      "{4, 5, 24, 'hello'}\n",
      "set()\n"
     ]
    }
   ],
   "source": [
    "# set methods \n",
    "s.remove(1)\n",
    "print(s)\n",
    "s.discard(1)\n",
    "print(s)\n",
    "s.pop()\n",
    "print(s)\n",
    "s.clear()\n",
    "print(s)"
   ]
  },
  {
   "cell_type": "code",
   "execution_count": 31,
   "metadata": {},
   "outputs": [
    {
     "name": "stdout",
     "output_type": "stream",
     "text": [
      "{1, 2, 3, 4, 5, 6, 7, 8, 9, 10}\n",
      "{1, 2, 3, 4, 5, 6, 7, 8, 9, 10}\n",
      "{9, 10}\n",
      "{9, 10}\n",
      "{1, 3, 5, 7}\n",
      "{1, 3, 5, 7}\n",
      "{1, 2, 3, 4, 5, 6, 7, 8}\n",
      "{1, 2, 3, 4, 5, 6, 7, 8}\n"
     ]
    }
   ],
   "source": [
    "# joins type \n",
    "a={1,3,5,7,9,10}\n",
    "b = {2,4,6,8,9,10}\n",
    "s = a.union(b)\n",
    "print(s)\n",
    "\n",
    "s= a|b\n",
    "print(s)\n",
    "\n",
    "s= a.intersection(b)\n",
    "print(s)\n",
    "s= a & b\n",
    "print(s)\n",
    "\n",
    "s= a.difference( b)\n",
    "print(s)\n",
    "\n",
    "s= a- ( b)\n",
    "print(s)\n",
    "\n",
    "#symmetic diference  : jo jo match nhi ho rhe wahi bs \n",
    "s = a.symmetric_difference(b)\n",
    "print(s)\n",
    "s = a ^ (b)\n",
    "print(s)"
   ]
  },
  {
   "cell_type": "markdown",
   "metadata": {},
   "source": [
    "==============================================================================================================================\n",
    "DICTIONARY :\n",
    "\n",
    "-> ye hash map hota hai \n",
    "-> isme  <key , value> pair hota hai \n",
    "-> key : mist unique  ,  value : can be same \n",
    "-> isko declatre {} braces me krte \n",
    "->  syntax :  d = { 1 :\"hello\" , 2: \"bolo\"}\n",
    "-> mutable hota hai  [ value c=update aur change ho jayega  but key change nhi hoga ]\n",
    "-> insertion order hota  key ke base me but index ke base me nhi hota \n",
    "-> key indexing ka kaam krta key ke through vlaue access kr skte "
   ]
  },
  {
   "cell_type": "code",
   "execution_count": 53,
   "metadata": {},
   "outputs": [
    {
     "name": "stdout",
     "output_type": "stream",
     "text": [
      "{1: 'hello', 2: 'bolo', 3: 'suno'}\n",
      "{1: 'hii', 2: 'bolo', 3: 'suno'}\n",
      "{1: 22, 2: 'bolo', 3: 'suno'}\n",
      "{1: 22, 2: 'bolo', 3: 'suno', 50: 22}\n",
      "22\n",
      "bolo\n",
      "suno\n",
      "22\n",
      "22\n",
      "bolo\n",
      "suno\n",
      "22\n",
      "22\n",
      "bolo\n",
      "suno\n",
      "22\n",
      "Help on class dict in module builtins:\n",
      "\n",
      "class dict(object)\n",
      " |  dict() -> new empty dictionary\n",
      " |  dict(mapping) -> new dictionary initialized from a mapping object's\n",
      " |      (key, value) pairs\n",
      " |  dict(iterable) -> new dictionary initialized as if via:\n",
      " |      d = {}\n",
      " |      for k, v in iterable:\n",
      " |          d[k] = v\n",
      " |  dict(**kwargs) -> new dictionary initialized with the name=value pairs\n",
      " |      in the keyword argument list.  For example:  dict(one=1, two=2)\n",
      " |\n",
      " |  Methods defined here:\n",
      " |\n",
      " |  __contains__(self, key, /)\n",
      " |      True if the dictionary has the specified key, else False.\n",
      " |\n",
      " |  __delitem__(self, key, /)\n",
      " |      Delete self[key].\n",
      " |\n",
      " |  __eq__(self, value, /)\n",
      " |      Return self==value.\n",
      " |\n",
      " |  __ge__(self, value, /)\n",
      " |      Return self>=value.\n",
      " |\n",
      " |  __getattribute__(self, name, /)\n",
      " |      Return getattr(self, name).\n",
      " |\n",
      " |  __getitem__(self, key, /)\n",
      " |      Return self[key].\n",
      " |\n",
      " |  __gt__(self, value, /)\n",
      " |      Return self>value.\n",
      " |\n",
      " |  __init__(self, /, *args, **kwargs)\n",
      " |      Initialize self.  See help(type(self)) for accurate signature.\n",
      " |\n",
      " |  __ior__(self, value, /)\n",
      " |      Return self|=value.\n",
      " |\n",
      " |  __iter__(self, /)\n",
      " |      Implement iter(self).\n",
      " |\n",
      " |  __le__(self, value, /)\n",
      " |      Return self<=value.\n",
      " |\n",
      " |  __len__(self, /)\n",
      " |      Return len(self).\n",
      " |\n",
      " |  __lt__(self, value, /)\n",
      " |      Return self<value.\n",
      " |\n",
      " |  __ne__(self, value, /)\n",
      " |      Return self!=value.\n",
      " |\n",
      " |  __or__(self, value, /)\n",
      " |      Return self|value.\n",
      " |\n",
      " |  __repr__(self, /)\n",
      " |      Return repr(self).\n",
      " |\n",
      " |  __reversed__(self, /)\n",
      " |      Return a reverse iterator over the dict keys.\n",
      " |\n",
      " |  __ror__(self, value, /)\n",
      " |      Return value|self.\n",
      " |\n",
      " |  __setitem__(self, key, value, /)\n",
      " |      Set self[key] to value.\n",
      " |\n",
      " |  __sizeof__(self, /)\n",
      " |      Return the size of the dict in memory, in bytes.\n",
      " |\n",
      " |  clear(self, /)\n",
      " |      Remove all items from the dict.\n",
      " |\n",
      " |  copy(self, /)\n",
      " |      Return a shallow copy of the dict.\n",
      " |\n",
      " |  get(self, key, default=None, /)\n",
      " |      Return the value for key if key is in the dictionary, else default.\n",
      " |\n",
      " |  items(self, /)\n",
      " |      Return a set-like object providing a view on the dict's items.\n",
      " |\n",
      " |  keys(self, /)\n",
      " |      Return a set-like object providing a view on the dict's keys.\n",
      " |\n",
      " |  pop(self, key, default=<unrepresentable>, /)\n",
      " |      D.pop(k[,d]) -> v, remove specified key and return the corresponding value.\n",
      " |\n",
      " |      If the key is not found, return the default if given; otherwise,\n",
      " |      raise a KeyError.\n",
      " |\n",
      " |  popitem(self, /)\n",
      " |      Remove and return a (key, value) pair as a 2-tuple.\n",
      " |\n",
      " |      Pairs are returned in LIFO (last-in, first-out) order.\n",
      " |      Raises KeyError if the dict is empty.\n",
      " |\n",
      " |  setdefault(self, key, default=None, /)\n",
      " |      Insert key with a value of default if key is not in the dictionary.\n",
      " |\n",
      " |      Return the value for key if key is in the dictionary, else default.\n",
      " |\n",
      " |  update(...)\n",
      " |      D.update([E, ]**F) -> None.  Update D from mapping/iterable E and F.\n",
      " |      If E is present and has a .keys() method, then does:  for k in E.keys(): D[k] = E[k]\n",
      " |      If E is present and lacks a .keys() method, then does:  for k, v in E: D[k] = v\n",
      " |      In either case, this is followed by: for k in F:  D[k] = F[k]\n",
      " |\n",
      " |  values(self, /)\n",
      " |      Return an object providing a view on the dict's values.\n",
      " |\n",
      " |  ----------------------------------------------------------------------\n",
      " |  Class methods defined here:\n",
      " |\n",
      " |  __class_getitem__(object, /)\n",
      " |      See PEP 585\n",
      " |\n",
      " |  fromkeys(iterable, value=None, /)\n",
      " |      Create a new dictionary with keys from iterable and values set to value.\n",
      " |\n",
      " |  ----------------------------------------------------------------------\n",
      " |  Static methods defined here:\n",
      " |\n",
      " |  __new__(*args, **kwargs)\n",
      " |      Create and return a new object.  See help(type) for accurate signature.\n",
      " |\n",
      " |  ----------------------------------------------------------------------\n",
      " |  Data and other attributes defined here:\n",
      " |\n",
      " |  __hash__ = None\n",
      "\n"
     ]
    }
   ],
   "source": [
    "d= { 1 : \"hello\" , 2:\"bolo\" , 3: \"suno\"}\n",
    "\n",
    "print(d)\n",
    "\n",
    "d[1] = \"hii\" \n",
    "print(d)\n",
    "\n",
    "\n",
    "d[1] = 22 \n",
    "print(d)\n",
    "\n",
    "d[50] = 22  # creating nhi hai to \n",
    "print(d)\n",
    "\n",
    "# iteration  ye key ke through ieration hoga\n",
    "for i in d:\n",
    "    print(d[i])\n",
    "\n",
    "# ietation throgh value \n",
    "for i in d:\n",
    "    print(d[i])\n",
    "\n",
    "for i in d.values():\n",
    "    print(i)    \n",
    "\n",
    "help(dict)"
   ]
  },
  {
   "cell_type": "code",
   "execution_count": 58,
   "metadata": {},
   "outputs": [
    {
     "name": "stdout",
     "output_type": "stream",
     "text": [
      "[1, 2, 3, 4, 5]\n",
      "[100, 2, 3, 4, 5]\n",
      "[100, 2, 3, 4, 5]\n",
      "[200, 2, 3, 4, 5]\n"
     ]
    }
   ],
   "source": [
    "#  Deep copy \n",
    "\n",
    "a = [1,2,3,4,5]\n",
    "b = a \n",
    "print(a)\n",
    "b[0] = 100\n",
    "print(a)\n",
    "print(b)\n",
    "# yaha upr dekhenge ki copy aisa hua hai ki b me changes a me bhi ho ja rha hai \n",
    "\n",
    "# iske liye shallow copy krte hai \n",
    "\n",
    "b = a.copy()\n",
    "b[0] = 200\n",
    "print(b)\n",
    "\n",
    "\n",
    "# same ye dictionary me bhi apply\n",
    " "
   ]
  },
  {
   "cell_type": "code",
   "execution_count": null,
   "metadata": {},
   "outputs": [
    {
     "name": "stdout",
     "output_type": "stream",
     "text": [
      "dict_items([(1, 100), (2, 200), (3, 400)])\n",
      "dict_keys([1, 2, 3])\n",
      "<class 'dict_keys'>\n"
     ]
    }
   ],
   "source": [
    "d = {1:100 , 2 : 200 , 3:400 }\n",
    "\n",
    "ele = d.keys()\n",
    "print(d.items())\n",
    "print(d.keys())\n",
    "print(ele)"
   ]
  },
  {
   "cell_type": "markdown",
   "metadata": {},
   "source": [
    "QUETIONS    "
   ]
  },
  {
   "cell_type": "code",
   "execution_count": null,
   "metadata": {},
   "outputs": [
    {
     "name": "stdout",
     "output_type": "stream",
     "text": [
      "{1: 100, 2: 200, 3: 300, 40: 400, 5: 500, 6: 600}\n"
     ]
    }
   ],
   "source": [
    "# copy from d2 in d1 \n",
    "d1 = { 1 : 100 , 2:200 , 3 : 300}\n",
    "d2 = { 40 : 400 , 5:500 , 6: 600}\n",
    "\n",
    "# d2 ko d1 me laa rhe iterate krke \n",
    "for i in d2:\n",
    "    d1[i] = d2[i]\n",
    "\n",
    "print(d1)\n",
    "\n",
    " "
   ]
  },
  {
   "cell_type": "code",
   "execution_count": 70,
   "metadata": {},
   "outputs": [
    {
     "name": "stdout",
     "output_type": "stream",
     "text": [
      "{1: 4, 2: 2, 22: 1, 3: 4, 4: 1, 5: 1, 6: 2, 7: 2, 8: 1}\n"
     ]
    }
   ],
   "source": [
    "# sabki frequency nikalna \n",
    "\n",
    "a = [1,1,1,1,2,2,22,3,3,3,3,4,5,6,6,7,7,8]\n",
    "d = {}\n",
    "for i in a:\n",
    "    if i in d.keys(): # index hai to wahi ka vlaue +1 kr do \n",
    "        d[i]+=1\n",
    "    else :\n",
    "        d[i]=1  # pehlib ar index milatokoi ni index lo aur value +1 kr do \n",
    "print(d)"
   ]
  },
  {
   "cell_type": "code",
   "execution_count": null,
   "metadata": {},
   "outputs": [],
   "source": [
    "# same key value ko sum kr do \n",
    "\n",
    "d1 = { 1 : 100 , 2:200 , 40 : 300}\n",
    "d2 = { 40 : 400 , 5:500 , 6: 600}\n",
    "\n",
    "for i in d2 :\n",
    "    if i in d1.keys():\n",
    "        d1[i]+= d2[i]\n",
    "    else:\n",
    "        d1[i] = d2[i]\n",
    "print(d1)\n"
   ]
  }
 ],
 "metadata": {
  "kernelspec": {
   "display_name": "Python 3",
   "language": "python",
   "name": "python3"
  },
  "language_info": {
   "codemirror_mode": {
    "name": "ipython",
    "version": 3
   },
   "file_extension": ".py",
   "mimetype": "text/x-python",
   "name": "python",
   "nbconvert_exporter": "python",
   "pygments_lexer": "ipython3",
   "version": "3.13.3"
  }
 },
 "nbformat": 4,
 "nbformat_minor": 2
}

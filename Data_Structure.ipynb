{
 "cells": [
  {
   "cell_type": "markdown",
   "metadata": {},
   "source": [
    "LIST : \n",
    "    - it is a collection of items\n",
    "    - it is mutable\n",
    "    - it can contain different data types[hetrogenous]\n",
    "    - it can contain duplicate items\n",
    "    - it can contain nested lists\n",
    "    - it can be accessed using index\n",
    "    - it is ordered data structure\n",
    "    - it can be sliced\n",
    "syntax :\n",
    "    - []\n",
    "    -fruites = ['apple','banana','orange']\n",
    "    -fruites = ['apple','banana','orange',1,2,3,4,5]\n",
    "    -fruites = ['apple','banana','orange',1,2,3,4,5,[1,2,3,4,5]]"
   ]
  },
  {
   "cell_type": "code",
   "execution_count": 7,
   "metadata": {},
   "outputs": [
    {
     "name": "stdout",
     "output_type": "stream",
     "text": [
      "hello\n",
      "[14, 15, 17]\n",
      "17\n"
     ]
    }
   ],
   "source": [
    "#List creation \n",
    "a = [ 12, 13 , 14, 15 ,17 , print(\"hello\"), True]\n",
    "\n",
    "# list me clicing \n",
    "print(a[2:5:1])\n",
    "\n",
    "#accsing negative index\n",
    "print(a[-3])"
   ]
  },
  {
   "cell_type": "markdown",
   "metadata": {},
   "source": [
    "traverse list "
   ]
  },
  {
   "cell_type": "code",
   "execution_count": null,
   "metadata": {},
   "outputs": [],
   "source": [
    "a = [1,3,4,5,7.8]\n",
    "\n",
    "# 1st way accesing through index \n",
    "for i in range(len(a)):\n",
    "    print(a[i])\n",
    "# 2nd way accessing through value \n",
    "# down fall : isme value bs access kr skte h index nhi\n",
    "for i in a:\n",
    "    print(i)\n",
    " \n",
    "print(dir(a))"
   ]
  },
  {
   "cell_type": "code",
   "execution_count": null,
   "metadata": {},
   "outputs": [
    {
     "name": "stdout",
     "output_type": "stream",
     "text": [
      "[1, 3, 2, 3, 2, 3, 2, 3, 2, 3, 2, 2, 2, 2, 2, 2, 2, 3, 4, 5, 7.8, 102, 102, 102, 102, 102, 102, 102, 102, 102, 102, 102]\n",
      "[1, 3, 2, 3, 2, 3, 2, 3, 2, 3, 2, 3, 2, 2, 2, 2, 2, 2, 2, 3, 4, 5, 7.8, 102, 102, 102, 102, 102, 102, 102, 102, 102, 102]\n"
     ]
    }
   ],
   "source": [
    "a.append(102)\n",
    "print(a)\n",
    " \n",
    "a.insert(1,3)\n",
    "\n",
    "a.remove(102)  # first occurance remove \n",
    "print(a)\n",
    " "
   ]
  },
  {
   "cell_type": "code",
   "execution_count": 1,
   "metadata": {},
   "outputs": [
    {
     "name": "stdout",
     "output_type": "stream",
     "text": [
      "[2, 3, 30, 5, 6, 1]\n"
     ]
    }
   ],
   "source": [
    "#mutable data \n",
    "\n",
    "l= [2,3,4,5,6,1]\n",
    "l[2]= 30\n",
    "print(l)"
   ]
  },
  {
   "cell_type": "markdown",
   "metadata": {},
   "source": [
    "Practice set "
   ]
  },
  {
   "cell_type": "code",
   "execution_count": 6,
   "metadata": {},
   "outputs": [
    {
     "name": "stdout",
     "output_type": "stream",
     "text": [
      "here is the prosivie number1 2 3 4 5 6 7 8 9 10 here is the negative  number 1 2 3 4 5 6 7 8 9 10 -1 -2 -3 -4 -5 -6 -7 -8 -9 -10 "
     ]
    }
   ],
   "source": [
    "# pritn +ve and -ve numbers from the lsit \n",
    "\n",
    "l = [1,2,3,4,5,6,7,8,9,10,-1,-2,-3,-4,-5,-6,-7,-8,-9,-10]\n",
    "print(\"here is the prosivie number\", end= \"\")\n",
    "for i in l:\n",
    "    if i > 0:\n",
    "        print(i, end = \" \")\n",
    "   \n",
    "# print even and odd numbers from the list\n",
    "print(\"here is the negative  number\" , end =\" \")\n",
    "for i in l:\n",
    "    if i > 0:\n",
    "        print(i, end = \" \")\n",
    "    else:\n",
    "        print(i, end = \" \")\n"
   ]
  },
  {
   "cell_type": "code",
   "execution_count": 7,
   "metadata": {},
   "outputs": [
    {
     "name": "stdout",
     "output_type": "stream",
     "text": [
      "30.0\n"
     ]
    }
   ],
   "source": [
    "# determine the avg of a list of numbers\n",
    "\n",
    "l = [ 10 ,20 ,30 ,40 ,50]\n",
    "sum =0; \n",
    "for i in l : \n",
    "     sum+=i\n",
    "avg = sum/len(l)\n",
    "print(avg)"
   ]
  },
  {
   "cell_type": "code",
   "execution_count": 5,
   "metadata": {},
   "outputs": [
    {
     "name": "stdout",
     "output_type": "stream",
     "text": [
      "30\n"
     ]
    }
   ],
   "source": [
    "# find the gratest element in the list \n",
    "l = [ 10 ,20 ,30 ,10 ,20,25,10,30,25,30]\n",
    "largest = l[0]\n",
    "sec_largest = l[0] \n",
    "\n",
    "for i in l :\n",
    "    if i  > largest:\n",
    "        sec_largest = largest\n",
    "        largest = i\n",
    "    elif i > sec_largest:\n",
    "        sec_largest = i\n",
    "\n",
    "print(sec_largest)"
   ]
  },
  {
   "cell_type": "code",
   "execution_count": null,
   "metadata": {},
   "outputs": [
    {
     "name": "stdout",
     "output_type": "stream",
     "text": [
      "Sorted\n"
     ]
    }
   ],
   "source": [
    "a = [12 ,13 ,14,15,16,17,18,19,20]\n",
    "\n",
    "for i in range(len(a)-1):\n",
    "    if a[i]< a[i+1]:\n",
    "        continue\n",
    "    else:\n",
    "        print(\"Not sorted\")\n",
    "        break\n",
    "else: print(\"Sorted\")\n"
   ]
  },
  {
   "cell_type": "markdown",
   "metadata": {},
   "source": [
    "==============================================================================================================\n",
    "\n",
    "   TUPLES \n",
    "   tupes are immutable\n",
    "   tuples are ordered\n",
    "   tuples can contain duplicate values\n",
    "   tuples are indexed\n",
    "   tuples are iterable\n",
    "   tuples are heterogeneous\n",
    "   tuples are faster than lists\n",
    "   syntax : t = (1,2,3,4,5)"
   ]
  },
  {
   "cell_type": "code",
   "execution_count": null,
   "metadata": {},
   "outputs": [
    {
     "name": "stdout",
     "output_type": "stream",
     "text": [
      "2\n"
     ]
    }
   ],
   "source": [
    "t = (1,2,3,4,5,5,5)\n",
    "count = t.count(5)\n",
    "print(count)\n",
    "\n",
    "index = t.index(5)\n",
    "print(index)\n",
    "\n",
    "  \n",
    "\n",
    "t = (1,2,3,4,5)\n",
    "print(t)\n",
    "print(t[0])\n",
    "print(t[1:3])\n",
    "print(t[2:])"
   ]
  },
  {
   "cell_type": "markdown",
   "metadata": {},
   "source": []
  },
  {
   "cell_type": "code",
   "execution_count": null,
   "metadata": {},
   "outputs": [
    {
     "name": "stdout",
     "output_type": "stream",
     "text": [
      "<class 'int'>\n",
      "1\n",
      "2\n",
      "3\n",
      "4\n"
     ]
    }
   ],
   "source": [
    "a,b,c,d = (1,2,3,4)\n",
    "t = (a)\n",
    "# kyuki single value hai to comma lagana jaruri hai\n",
    "print(type(t))\n",
    "t = (a,)\n",
    "print(type(t))\n",
    "print(a)\n",
    "print(b)\n",
    "print(c)\n",
    "print(d)    "
   ]
  }
 ],
 "metadata": {
  "kernelspec": {
   "display_name": "Python 3",
   "language": "python",
   "name": "python3"
  },
  "language_info": {
   "codemirror_mode": {
    "name": "ipython",
    "version": 3
   },
   "file_extension": ".py",
   "mimetype": "text/x-python",
   "name": "python",
   "nbconvert_exporter": "python",
   "pygments_lexer": "ipython3",
   "version": "3.13.3"
  }
 },
 "nbformat": 4,
 "nbformat_minor": 2
}

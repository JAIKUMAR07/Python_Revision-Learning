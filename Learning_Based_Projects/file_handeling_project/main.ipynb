{
 "cells": [
  {
   "cell_type": "code",
   "execution_count": null,
   "metadata": {},
   "outputs": [],
   "source": [
    "print(\"press 1 for creating  a file\")\n",
    "print(\"press 2 for reading a file\")\n",
    "print(\"press 3 for updating a file  \")\n",
    "print(\"press 4 for deleting a file\")\n",
    "\n",
    "\n",
    "check = int(input(\"enter your choice\"))\n",
    "\n"
   ]
  }
 ],
 "metadata": {
  "language_info": {
   "name": "python"
  }
 },
 "nbformat": 4,
 "nbformat_minor": 2
}

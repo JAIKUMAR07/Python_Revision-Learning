{
 "cells": [
  {
   "cell_type": "markdown",
   "metadata": {},
   "source": [
    "# OOPS\n"
   ]
  },
  {
   "cell_type": "markdown",
   "metadata": {},
   "source": [
    "1. imperativ arpaoch : \n",
    "    isme hum  a =10 , b=30  ,  c =a+b   bar bar performacne ke liye  operation declare rkna padta \n",
    "\n",
    "2.   fucntional approch :\n",
    "    isme hum  a =10, b=30 ,   isme just hame call krna hota  hence multiple tiems code nhi likhna padta \n",
    "\n",
    "\n",
    "3. OOPs based : \n",
    "    isme hum class bna ke operation perform kr skte "
   ]
  },
  {
   "cell_type": "markdown",
   "metadata": {},
   "source": [
    "isme object bnate hai  aur ye code ko reusability and security provide krata "
   ]
  },
  {
   "cell_type": "markdown",
   "metadata": {},
   "source": [
    "# CLASS"
   ]
  },
  {
   "cell_type": "markdown",
   "metadata": {},
   "source": [
    "Classes :  blue print for creating templates \n",
    "            isme atributes [ means variable jo class ke udnre bnta ]\n",
    "            isme method  [ means fucntion jo ki clas me bnta ]\n",
    "            jb class declare krte aur run krte to clas ek bar run hota \n",
    "\n",
    "syntax : \n",
    "class class_name :\n",
    "    def __init__(self,attributes) :\n",
    "        self.attributs = attributes\n",
    "    def method_name(self,parameters) :\n",
    "        pass\n",
    "    def __str__(self) :\n",
    "        return self.attributs"
   ]
  },
  {
   "cell_type": "code",
   "execution_count": 15,
   "metadata": {},
   "outputs": [
    {
     "name": "stdout",
     "output_type": "stream",
     "text": [
      "hello how are you \n",
      "12\n",
      "how are you \n"
     ]
    }
   ],
   "source": [
    "class Factory: \n",
    "    a=12  # atributes \n",
    "\n",
    "    def hello(self):  # method \n",
    "        print(\"how are you \")\n",
    "    print(\"hello how are you \")\n",
    "\n",
    "\n",
    "print(Factory().a)\n",
    "\n",
    "Factory().hello()\n",
    "\n",
    "\n",
    "\n",
    "\n"
   ]
  },
  {
   "cell_type": "markdown",
   "metadata": {},
   "source": [
    "# OBJECTS IN OOPS"
   ]
  },
  {
   "cell_type": "markdown",
   "metadata": {},
   "source": [
    "object is like instance of the class "
   ]
  },
  {
   "cell_type": "code",
   "execution_count": null,
   "metadata": {},
   "outputs": [
    {
     "name": "stdout",
     "output_type": "stream",
     "text": [
      "12\n",
      "how are you \n",
      "None\n"
     ]
    }
   ],
   "source": [
    "obj = Factory()\n",
    "\n",
    "print(obj.a)\n",
    "print(obj.hello())         "
   ]
  },
  {
   "cell_type": "code",
   "execution_count": null,
   "metadata": {},
   "outputs": [],
   "source": [
    "\n",
    "\n"
   ]
  }
 ],
 "metadata": {
  "kernelspec": {
   "display_name": "Python 3",
   "language": "python",
   "name": "python3"
  },
  "language_info": {
   "codemirror_mode": {
    "name": "ipython",
    "version": 3
   },
   "file_extension": ".py",
   "mimetype": "text/x-python",
   "name": "python",
   "nbconvert_exporter": "python",
   "pygments_lexer": "ipython3",
   "version": "3.13.3"
  }
 },
 "nbformat": 4,
 "nbformat_minor": 2
}

{
 "cells": [
  {
   "cell_type": "code",
   "execution_count": 4,
   "metadata": {},
   "outputs": [
    {
     "name": "stdout",
     "output_type": "stream",
     "text": [
      "Hello World\n",
      "Hello World\n"
     ]
    }
   ],
   "source": [
    "def hello():\n",
    "    print(\"Hello World\")\n",
    "\n",
    "hello()\n",
    "hello()\n"
   ]
  },
  {
   "cell_type": "markdown",
   "metadata": {},
   "source": [
    "Arguments fucntion "
   ]
  },
  {
   "cell_type": "code",
   "execution_count": null,
   "metadata": {},
   "outputs": [
    {
     "name": "stdout",
     "output_type": "stream",
     "text": [
      "the sum of your numbers is 36 kaise ho \n"
     ]
    }
   ],
   "source": [
    "#  keyword arguments\n",
    "def sum(a,b , str):\n",
    "    print(f\"the sum of your numbers is {a+b}\", str)\n",
    "\n",
    "sum(a = 12,  str =\"kaise ho \",b = 24)"
   ]
  },
  {
   "cell_type": "code",
   "execution_count": 9,
   "metadata": {},
   "outputs": [
    {
     "name": "stdout",
     "output_type": "stream",
     "text": [
      "the sum of your numbers is 32\n"
     ]
    }
   ],
   "source": [
    "# positional arguments\n",
    "def sum(a,b  ):\n",
    "    print(f\"the sum of your numbers is {a+b}\",  )\n",
    "\n",
    "sum( 12, 20)"
   ]
  },
  {
   "cell_type": "code",
   "execution_count": 10,
   "metadata": {},
   "outputs": [
    {
     "name": "stdout",
     "output_type": "stream",
     "text": [
      "hello world\n",
      "hello python\n"
     ]
    }
   ],
   "source": [
    "#default arguments\n",
    "def hello(name=\"world\"):\n",
    "    print(\"hello\",name)\n",
    "\n",
    "hello()\n",
    "hello(\"python\")"
   ]
  },
  {
   "cell_type": "code",
   "execution_count": 16,
   "metadata": {},
   "outputs": [
    {
     "name": "stdout",
     "output_type": "stream",
     "text": [
      "T\n",
      "TN\n",
      "TNT\n",
      "palindrome\n"
     ]
    }
   ],
   "source": [
    "def palindrome(s):\n",
    "    rev =\"\"\n",
    "    for i in range(len(s)-1, -1, -1 ):\n",
    "        rev =  rev +s[i]\n",
    "        print(rev)\n",
    "    if(rev == s):\n",
    "        print(\"palindrome\")\n",
    "    else:\n",
    "        print(\"not palindrome\")\n",
    "palindrome(\"TNT\")\n",
    "         "
   ]
  },
  {
   "cell_type": "markdown",
   "metadata": {},
   "source": [
    "DATA STRUCTURES "
   ]
  },
  {
   "cell_type": "code",
   "execution_count": null,
   "metadata": {},
   "outputs": [],
   "source": []
  }
 ],
 "metadata": {
  "kernelspec": {
   "display_name": "Python 3",
   "language": "python",
   "name": "python3"
  },
  "language_info": {
   "codemirror_mode": {
    "name": "ipython",
    "version": 3
   },
   "file_extension": ".py",
   "mimetype": "text/x-python",
   "name": "python",
   "nbconvert_exporter": "python",
   "pygments_lexer": "ipython3",
   "version": "3.13.3"
  }
 },
 "nbformat": 4,
 "nbformat_minor": 2
}

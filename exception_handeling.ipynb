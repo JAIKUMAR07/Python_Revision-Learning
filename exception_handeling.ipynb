{
 "cells": [
  {
   "cell_type": "markdown",
   "metadata": {},
   "source": [
    "Errors which can not be handeling :\n",
    "\n",
    "syntax error  , and indentaiton Earros  and tab errors \n"
   ]
  },
  {
   "cell_type": "markdown",
   "metadata": {},
   "source": [
    "Exceptions : \n",
    "-> kuch fuctionality aur workign available nhi hota program me ,  so in this case prgram fate n aur iskla flow ruke na isliye exception handle dalte hai jisse aage ka code ruke n exception ke karan \n",
    "-> it is the unexpected event which occurs during the execution of the program\n",
    "\n",
    "iske kuch key word hote hai \n",
    "\n",
    "1] try :  block of code jisem code ho skta  isko likhne ke baad excepti ya finaly likhna padta hai\n",
    "2] except : block of who handle jb exception occure hoye \n",
    "3] finally : block of code hamesha chalega bhale error ho ya na ho  \n",
    "4] raise : raise keyword use krke exception ko manually thorugh kr skte \n",
    "5] else : run code if no exception occur isko except ke baad likhte hai"
   ]
  },
  {
   "cell_type": "code",
   "execution_count": null,
   "metadata": {},
   "outputs": [
    {
     "name": "stdout",
     "output_type": "stream",
     "text": [
      "1.0\n",
      "no error\n",
      "bye\n"
     ]
    }
   ],
   "source": [
    "a = int(input(\"enter any no\"))\n",
    "try: \n",
    "    print(10/a)\n",
    "except  Exception as err:\n",
    "    print(f\"you can't  {err} \")\n",
    "else:\n",
    "    print(\"no error\")\n",
    "finally:\n",
    "    print(\"mein to run hounga hi\")"
   ]
  },
  {
   "cell_type": "code",
   "execution_count": null,
   "metadata": {},
   "outputs": [
    {
     "ename": "ValueError",
     "evalue": "your age is not valid ",
     "output_type": "error",
     "traceback": [
      "\u001b[31m---------------------------------------------------------------------------\u001b[39m",
      "\u001b[31mValueError\u001b[39m                                Traceback (most recent call last)",
      "\u001b[36mCell\u001b[39m\u001b[36m \u001b[39m\u001b[32mIn[19]\u001b[39m\u001b[32m, line 6\u001b[39m\n\u001b[32m      3\u001b[39m age= \u001b[38;5;28mint\u001b[39m(\u001b[38;5;28minput\u001b[39m(\u001b[33m\"\u001b[39m\u001b[33mtell your age\u001b[39m\u001b[33m\"\u001b[39m))\n\u001b[32m      5\u001b[39m \u001b[38;5;28;01mif\u001b[39;00m age<\u001b[32m10\u001b[39m \u001b[38;5;129;01mor\u001b[39;00m age>\u001b[32m18\u001b[39m : \n\u001b[32m----> \u001b[39m\u001b[32m6\u001b[39m     \u001b[38;5;28;01mraise\u001b[39;00m \u001b[38;5;167;01mValueError\u001b[39;00m(\u001b[33m\"\u001b[39m\u001b[33myour age is not valid \u001b[39m\u001b[33m\"\u001b[39m)\n\u001b[32m      7\u001b[39m \u001b[38;5;28;01melse\u001b[39;00m :\n\u001b[32m      8\u001b[39m     \u001b[38;5;28mprint\u001b[39m(\u001b[33m\"\u001b[39m\u001b[33myou are valid \u001b[39m\u001b[33m\"\u001b[39m)\n",
      "\u001b[31mValueError\u001b[39m: your age is not valid "
     ]
    }
   ],
   "source": [
    "# using raise \n",
    "\n",
    "age= int(input(\"tell your age\"))\n",
    "try:\n",
    "    if age<10 or age>18 : \n",
    "        raise ValueError(\"your age is not valid \")\n",
    "        # yahi paas execution ruk jayega  isliye try me likhte isko\n",
    "    else :\n",
    "        print(\"you are valid \")\n",
    "except Exception as e :\n",
    "    print(f\"an error occured as {e}\")\n",
    "print(\"club will start soon\")\n",
    "\n"
   ]
  }
 ],
 "metadata": {
  "kernelspec": {
   "display_name": "Python 3",
   "language": "python",
   "name": "python3"
  },
  "language_info": {
   "codemirror_mode": {
    "name": "ipython",
    "version": 3
   },
   "file_extension": ".py",
   "mimetype": "text/x-python",
   "name": "python",
   "nbconvert_exporter": "python",
   "pygments_lexer": "ipython3",
   "version": "3.13.3"
  }
 },
 "nbformat": 4,
 "nbformat_minor": 2
}

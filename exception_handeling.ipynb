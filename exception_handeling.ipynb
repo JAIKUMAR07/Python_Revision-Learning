{
 "cells": [
  {
   "cell_type": "markdown",
   "metadata": {},
   "source": [
    "Errors which can not be handeling :\n",
    "\n",
    "syntax error  , and indentaiton Earros  and tab errors \n"
   ]
  },
  {
   "cell_type": "markdown",
   "metadata": {},
   "source": [
    "Exceptions : \n",
    "-> kuch fuctionality aur workign available nhi hota program me ,  so in this case prgram fate n aur iskla flow ruke na isliye exception handle dalte hai jisse aage ka code ruke n exception ke karan \n",
    "-> it is the unexpected event which occurs during the execution of the program\n",
    "\n",
    "iske kuch key word hote hai \n",
    "\n",
    "1] try :  block of code jisem error  ho skta  isko likhne ke baad except ya finaly likhna padta hai\n",
    "2] except : block of jo handle krta hai  jb exception occure hoye \n",
    "3] finally : block of code hamesha chalega bhale error ho ya na ho  \n",
    "4] raise : raise keyword use krke exception ko manually thorugh kr skte \n",
    "5] else : run code if no exception occur isko except ke baad likhte hai"
   ]
  },
  {
   "cell_type": "code",
   "execution_count": 15,
   "metadata": {},
   "outputs": [
    {
     "name": "stdout",
     "output_type": "stream",
     "text": [
      "1.0\n",
      "no error\n",
      "bye\n"
     ]
    }
   ],
   "source": [
    "a = int(input(\"enter any no\"))\n",
    "try: \n",
    "    print(10/a)\n",
    "except  Exception as err:\n",
    "    print(f\"you can't  {err} \")\n",
    "else:\n",
    "    print(\"no error\")\n",
    "finally:\n",
    "    print(\"mein to run hounga hi\")"
   ]
  },
  {
   "cell_type": "code",
   "execution_count": 20,
   "metadata": {},
   "outputs": [
    {
     "name": "stdout",
     "output_type": "stream",
     "text": [
      "an error occured as your age is not valid \n",
      "club will start soon\n"
     ]
    }
   ],
   "source": [
    "# using raise \n",
    "\n",
    "age= int(input(\"tell your age\"))\n",
    "try:\n",
    "    if age<10 or age>18 : \n",
    "        raise ValueError(\"your age is not valid \")\n",
    "        # yahi paas execution ruk jayega  isliye try me likhte isko\n",
    "    else :\n",
    "        print(\"you are valid \")\n",
    "except Exception as e :\n",
    "    print(f\"an error occured as {e}\")\n",
    "print(\"club will start soon\")\n",
    "\n"
   ]
  }
 ],
 "metadata": {
  "kernelspec": {
   "display_name": "Python 3",
   "language": "python",
   "name": "python3"
  },
  "language_info": {
   "codemirror_mode": {
    "name": "ipython",
    "version": 3
   },
   "file_extension": ".py",
   "mimetype": "text/x-python",
   "name": "python",
   "nbconvert_exporter": "python",
   "pygments_lexer": "ipython3",
   "version": "3.13.3"
  }
 },
 "nbformat": 4,
 "nbformat_minor": 2
}

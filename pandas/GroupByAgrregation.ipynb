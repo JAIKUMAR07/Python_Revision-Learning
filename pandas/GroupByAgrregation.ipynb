{
 "cells": [
  {
   "cell_type": "code",
   "execution_count": 1,
   "metadata": {},
   "outputs": [],
   "source": [
    "import pandas as pd\n",
    "import numpy as np"
   ]
  },
  {
   "cell_type": "code",
   "execution_count": 4,
   "metadata": {},
   "outputs": [
    {
     "data": {
      "text/html": [
       "<div>\n",
       "<style scoped>\n",
       "    .dataframe tbody tr th:only-of-type {\n",
       "        vertical-align: middle;\n",
       "    }\n",
       "\n",
       "    .dataframe tbody tr th {\n",
       "        vertical-align: top;\n",
       "    }\n",
       "\n",
       "    .dataframe thead th {\n",
       "        text-align: right;\n",
       "    }\n",
       "</style>\n",
       "<table border=\"1\" class=\"dataframe\">\n",
       "  <thead>\n",
       "    <tr style=\"text-align: right;\">\n",
       "      <th></th>\n",
       "      <th>category</th>\n",
       "      <th>store</th>\n",
       "      <th>sales</th>\n",
       "      <th>quantity</th>\n",
       "      <th>date</th>\n",
       "    </tr>\n",
       "  </thead>\n",
       "  <tbody>\n",
       "    <tr>\n",
       "      <th>0</th>\n",
       "      <td>A</td>\n",
       "      <td>S1</td>\n",
       "      <td>1200</td>\n",
       "      <td>50</td>\n",
       "      <td>2024-01-01</td>\n",
       "    </tr>\n",
       "    <tr>\n",
       "      <th>1</th>\n",
       "      <td>A</td>\n",
       "      <td>S1</td>\n",
       "      <td>1500</td>\n",
       "      <td>60</td>\n",
       "      <td>2024-01-02</td>\n",
       "    </tr>\n",
       "    <tr>\n",
       "      <th>2</th>\n",
       "      <td>A</td>\n",
       "      <td>S2</td>\n",
       "      <td>1800</td>\n",
       "      <td>75</td>\n",
       "      <td>2024-01-01</td>\n",
       "    </tr>\n",
       "    <tr>\n",
       "      <th>3</th>\n",
       "      <td>A</td>\n",
       "      <td>S2</td>\n",
       "      <td>1300</td>\n",
       "      <td>55</td>\n",
       "      <td>2024-01-02</td>\n",
       "    </tr>\n",
       "    <tr>\n",
       "      <th>4</th>\n",
       "      <td>B</td>\n",
       "      <td>S1</td>\n",
       "      <td>900</td>\n",
       "      <td>40</td>\n",
       "      <td>2024-01-01</td>\n",
       "    </tr>\n",
       "    <tr>\n",
       "      <th>5</th>\n",
       "      <td>B</td>\n",
       "      <td>S1</td>\n",
       "      <td>1100</td>\n",
       "      <td>45</td>\n",
       "      <td>2024-01-02</td>\n",
       "    </tr>\n",
       "    <tr>\n",
       "      <th>6</th>\n",
       "      <td>B</td>\n",
       "      <td>S2</td>\n",
       "      <td>1600</td>\n",
       "      <td>65</td>\n",
       "      <td>2024-01-01</td>\n",
       "    </tr>\n",
       "    <tr>\n",
       "      <th>7</th>\n",
       "      <td>B</td>\n",
       "      <td>S2</td>\n",
       "      <td>1400</td>\n",
       "      <td>58</td>\n",
       "      <td>2024-01-02</td>\n",
       "    </tr>\n",
       "  </tbody>\n",
       "</table>\n",
       "</div>"
      ],
      "text/plain": [
       "  category store  sales  quantity        date\n",
       "0        A    S1   1200        50  2024-01-01\n",
       "1        A    S1   1500        60  2024-01-02\n",
       "2        A    S2   1800        75  2024-01-01\n",
       "3        A    S2   1300        55  2024-01-02\n",
       "4        B    S1    900        40  2024-01-01\n",
       "5        B    S1   1100        45  2024-01-02\n",
       "6        B    S2   1600        65  2024-01-01\n",
       "7        B    S2   1400        58  2024-01-02"
      ]
     },
     "execution_count": 4,
     "metadata": {},
     "output_type": "execute_result"
    }
   ],
   "source": [
    "import pandas as pd\n",
    "import numpy as np\n",
    "\n",
    "# Create sample data\n",
    "data = {\n",
    "    'category': ['A', 'A', 'A', 'A', 'B', 'B', 'B', 'B'],\n",
    "    'store': ['S1', 'S1', 'S2', 'S2', 'S1', 'S1', 'S2', 'S2'],\n",
    "    'sales': [1200, 1500, 1800, 1300, 900, 1100, 1600, 1400],\n",
    "    'quantity': [50, 60, 75, 55, 40, 45, 65, 58],\n",
    "    'date': ['2024-01-01', '2024-01-02', '2024-01-01', '2024-01-02',\n",
    "             '2024-01-01', '2024-01-02', '2024-01-01', '2024-01-02']\n",
    "}\n",
    "\n",
    "# Create DataFrame\n",
    "df = pd.DataFrame(data)\n",
    "\n",
    "# Convert date column to datetime\n",
    "# df['date'] = pd.to_datetime(df['date'])\n",
    "\n",
    "df\n"
   ]
  },
  {
   "cell_type": "code",
   "execution_count": 8,
   "metadata": {},
   "outputs": [
    {
     "name": "stdout",
     "output_type": "stream",
     "text": [
      "A\n",
      "  category store  sales  quantity        date\n",
      "0        A    S1   1200        50  2024-01-01\n",
      "1        A    S1   1500        60  2024-01-02\n",
      "2        A    S2   1800        75  2024-01-01\n",
      "3        A    S2   1300        55  2024-01-02\n",
      "B\n",
      "  category store  sales  quantity        date\n",
      "4        B    S1    900        40  2024-01-01\n",
      "5        B    S1   1100        45  2024-01-02\n",
      "6        B    S2   1600        65  2024-01-01\n",
      "7        B    S2   1400        58  2024-01-02\n"
     ]
    }
   ],
   "source": [
    "cat = df.groupby('category')  # ab ye as a obeject bna deta  hai\n",
    "\n",
    "cat \n",
    "for i , v in cat :\n",
    "    print(i)\n",
    "    print(v)"
   ]
  },
  {
   "cell_type": "code",
   "execution_count": 10,
   "metadata": {},
   "outputs": [
    {
     "data": {
      "text/html": [
       "<div>\n",
       "<style scoped>\n",
       "    .dataframe tbody tr th:only-of-type {\n",
       "        vertical-align: middle;\n",
       "    }\n",
       "\n",
       "    .dataframe tbody tr th {\n",
       "        vertical-align: top;\n",
       "    }\n",
       "\n",
       "    .dataframe thead th {\n",
       "        text-align: right;\n",
       "    }\n",
       "</style>\n",
       "<table border=\"1\" class=\"dataframe\">\n",
       "  <thead>\n",
       "    <tr style=\"text-align: right;\">\n",
       "      <th></th>\n",
       "      <th>store</th>\n",
       "      <th>sales</th>\n",
       "      <th>quantity</th>\n",
       "      <th>date</th>\n",
       "    </tr>\n",
       "    <tr>\n",
       "      <th>category</th>\n",
       "      <th></th>\n",
       "      <th></th>\n",
       "      <th></th>\n",
       "      <th></th>\n",
       "    </tr>\n",
       "  </thead>\n",
       "  <tbody>\n",
       "    <tr>\n",
       "      <th>A</th>\n",
       "      <td>S1S1S2S2</td>\n",
       "      <td>5800</td>\n",
       "      <td>240</td>\n",
       "      <td>2024-01-012024-01-022024-01-012024-01-02</td>\n",
       "    </tr>\n",
       "    <tr>\n",
       "      <th>B</th>\n",
       "      <td>S1S1S2S2</td>\n",
       "      <td>5000</td>\n",
       "      <td>208</td>\n",
       "      <td>2024-01-012024-01-022024-01-012024-01-02</td>\n",
       "    </tr>\n",
       "  </tbody>\n",
       "</table>\n",
       "</div>"
      ],
      "text/plain": [
       "             store  sales  quantity                                      date\n",
       "category                                                                     \n",
       "A         S1S1S2S2   5800       240  2024-01-012024-01-022024-01-012024-01-02\n",
       "B         S1S1S2S2   5000       208  2024-01-012024-01-022024-01-012024-01-02"
      ]
     },
     "execution_count": 10,
     "metadata": {},
     "output_type": "execute_result"
    }
   ],
   "source": [
    "cat = df.groupby('category').sum()  # ab ye as a obeject bna deta  hai\n",
    "\n",
    "cat \n"
   ]
  },
  {
   "cell_type": "code",
   "execution_count": null,
   "metadata": {},
   "outputs": [],
   "source": []
  },
  {
   "cell_type": "code",
   "execution_count": 12,
   "metadata": {},
   "outputs": [
    {
     "data": {
      "text/plain": [
       "category\n",
       "A    5800\n",
       "B    5000\n",
       "Name: sales, dtype: int64"
      ]
     },
     "execution_count": 12,
     "metadata": {},
     "output_type": "execute_result"
    }
   ],
   "source": [
    "cat = df.groupby('category')['sales'].sum()  # ab ye as a obeject bna deta  hai\n",
    "\n",
    "cat \n"
   ]
  },
  {
   "cell_type": "code",
   "execution_count": 18,
   "metadata": {},
   "outputs": [
    {
     "data": {
      "text/plain": [
       "category  store\n",
       "A         S1       2700\n",
       "          S2       3100\n",
       "B         S1       2000\n",
       "          S2       3000\n",
       "Name: sales, dtype: int64"
      ]
     },
     "execution_count": 18,
     "metadata": {},
     "output_type": "execute_result"
    }
   ],
   "source": [
    "cat = df.groupby(['category' , 'store'])['sales'].sum()  # ab ye as a obeject bna deta  hai\n",
    "\n",
    "cat \n"
   ]
  },
  {
   "cell_type": "code",
   "execution_count": 20,
   "metadata": {},
   "outputs": [
    {
     "data": {
      "text/plain": [
       "np.float64(1350.0)"
      ]
     },
     "execution_count": 20,
     "metadata": {},
     "output_type": "execute_result"
    }
   ],
   "source": [
    "df['sales'].mean()"
   ]
  },
  {
   "cell_type": "code",
   "execution_count": 25,
   "metadata": {},
   "outputs": [
    {
     "data": {
      "text/plain": [
       "sum     10800.0\n",
       "mean     1350.0\n",
       "min       900.0\n",
       "max      1800.0\n",
       "Name: sales, dtype: float64"
      ]
     },
     "execution_count": 25,
     "metadata": {},
     "output_type": "execute_result"
    }
   ],
   "source": [
    "df['sales'].agg(['sum', 'mean','min','max'])"
   ]
  }
 ],
 "metadata": {
  "kernelspec": {
   "display_name": "Python 3",
   "language": "python",
   "name": "python3"
  },
  "language_info": {
   "codemirror_mode": {
    "name": "ipython",
    "version": 3
   },
   "file_extension": ".py",
   "mimetype": "text/x-python",
   "name": "python",
   "nbconvert_exporter": "python",
   "pygments_lexer": "ipython3",
   "version": "3.13.3"
  }
 },
 "nbformat": 4,
 "nbformat_minor": 2
}

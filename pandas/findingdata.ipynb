{
 "cells": [
  {
   "cell_type": "markdown",
   "metadata": {},
   "source": []
  },
  {
   "cell_type": "markdown",
   "metadata": {},
   "source": [
    "# Finding\n",
    "\n",
    "hum log yaha data pandas frame se laa rhe the but actual em hum sl ya csv file se laate hai \n",
    "\n",
    "pandas bahut se formate ko support krta hai \n",
    "\n",
    "like json ,  csv  excel , html ,table, json ,   feather ,   google sheets "
   ]
  },
  {
   "cell_type": "markdown",
   "metadata": {},
   "source": []
  }
 ],
 "metadata": {
  "language_info": {
   "name": "python"
  }
 },
 "nbformat": 4,
 "nbformat_minor": 2
}

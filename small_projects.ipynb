{
 "cells": [
  {
   "cell_type": "markdown",
   "metadata": {},
   "source": [
    "Mobile Reacharge system "
   ]
  },
  {
   "cell_type": "code",
   "execution_count": null,
   "metadata": {},
   "outputs": [
    {
     "ename": "ValueError",
     "evalue": "invalid literal for int() with base 10: ''",
     "output_type": "error",
     "traceback": [
      "\u001b[31m---------------------------------------------------------------------------\u001b[39m",
      "\u001b[31mValueError\u001b[39m                                Traceback (most recent call last)",
      "\u001b[36mCell\u001b[39m\u001b[36m \u001b[39m\u001b[32mIn[3]\u001b[39m\u001b[32m, line 1\u001b[39m\n\u001b[32m----> \u001b[39m\u001b[32m1\u001b[39m ballance = \u001b[38;5;28;43mint\u001b[39;49m\u001b[43m(\u001b[49m\u001b[38;5;28;43minput\u001b[39;49m\u001b[43m(\u001b[49m\u001b[33;43m\"\u001b[39;49m\u001b[33;43mEnter your ballance: \u001b[39;49m\u001b[33;43m\"\u001b[39;49m\u001b[43m)\u001b[49m\u001b[43m)\u001b[49m\n\u001b[32m      3\u001b[39m recharge = \u001b[38;5;28mint\u001b[39m(\u001b[38;5;28minput\u001b[39m(\u001b[33m\"\u001b[39m\u001b[33mEnter your recharge amount: \u001b[39m\u001b[33m\"\u001b[39m))\n\u001b[32m      5\u001b[39m disscount = \u001b[38;5;28mint\u001b[39m(\u001b[38;5;28minput\u001b[39m(\u001b[33m\"\u001b[39m\u001b[33mEnter your disscount in \u001b[39m\u001b[33m%\u001b[39m\u001b[33m : \u001b[39m\u001b[33m\"\u001b[39m))\n",
      "\u001b[31mValueError\u001b[39m: invalid literal for int() with base 10: ''"
     ]
    }
   ],
   "source": [
    "\n",
    "ballance = int(input(\"Enter your ballance: \"))\n",
    "\n",
    "recharge = int(input(\"Enter your recharge amount: \"))\n",
    "\n",
    "disscount = int(input(\"Enter your disscount in % : \"))\n",
    "disscount = ballance*disscount/100\n",
    "\n",
    "if( recharge > ballance ):\n",
    "    print(\"you not have enough ballance\")\n",
    "else:\n",
    "\n",
    "    total = ballance  - ( recharge - disscount )\n",
    "    print(\"recharge sussesfully done\")\n",
    "    print(\"your current ballance is: \",total)\n"
   ]
  },
  {
   "cell_type": "markdown",
   "metadata": {},
   "source": [
    "=============================================================================\n"
   ]
  },
  {
   "cell_type": "markdown",
   "metadata": {},
   "source": [
    "ROOM BOOKING MANAGEMENT SYSTEM"
   ]
  },
  {
   "cell_type": "code",
   "execution_count": null,
   "metadata": {},
   "outputs": [
    {
     "name": "stdout",
     "output_type": "stream",
     "text": [
      "Welcome in Dewangan Hotel Service \n",
      "our discount offers:\n",
      "regular : \n",
      " if booking for min 5 days : 10%\n",
      "delux : \n",
      " if booking for min 3 days: 12% \n",
      "premium : \n",
      " if booking for min 2 days: 14% \n",
      "Thankyou for chooking our  regular room\n",
      "for 3 days stay\n",
      "Sorry you can't get discount\n",
      "Total amount for pay is :  3000\n"
     ]
    }
   ],
   "source": [
    "print(\"Welcome in Dewangan Hotel Service \")\n",
    "print(\"our discount offers:\")\n",
    "print(\"regular : \\n if booking for min 5 days : 10%\")\n",
    "print(\"delux : \\n if booking for min 3 days: 12% \")\n",
    "print(\"premium : \\n if booking for min 2 days: 14% \")\n",
    "\n",
    "room_type = str(input(\"choose   room type \\n regular or Delux or Premium \\n your room ? : \"))\n",
    "days = int(input(\"how many days you want to stay? : \"))\n",
    "\n",
    "regular = 1000\n",
    "delux = 2000\n",
    "premium = 3000\n",
    "\n",
    "print(\"Thankyou for chooking our  \" + room_type + \" room\" )\n",
    "print(\"for \" + str(days) + \" days \")\n",
    "\n",
    "if room_type == \"regular\":\n",
    "    if days >= 5:\n",
    "        total = regular * days\n",
    "        discount = (total * 10) / 100\n",
    "        print(\"Discount amount is : \", discount)\n",
    "        print(\"Total amount for pay is : \", total)\n",
    "    else:\n",
    "        print(\"Sorry you can't get discount\")\n",
    "        total = regular * days\n",
    "        print(\"Total amount for pay is : \", total)  \n",
    "\n",
    "elif room_type == \"delux\":\n",
    "    if days >= 3:\n",
    "        total = delux * days\n",
    "        discount = (total * 12) / 100\n",
    "        print(\"Discount amount is : \", discount)\n",
    "        print(\"Total amount for pay is : \", total)\n",
    "    else:\n",
    "        print(\"Sorry you can't get discount\")\n",
    "        total = regular * days\n",
    "        print(\"Total amount for pay is : \", total)     \n",
    "elif room_type == \"premium\":\n",
    "    if days >= 2:\n",
    "        total = premium * days\n",
    "        discount = (total * 14) / 100\n",
    "        print(\"Discount amount is : \", discount)\n",
    "        print(\"Total amount for pay is : \", total)\n",
    "    else:\n",
    "        print(\"Sorry you can't get discount\")\n",
    "        total = regular * days\n",
    "        print(\"Total amount for pay is : \", total) \n",
    "else:\n",
    "    print(\" please select Room Type among given \")"
   ]
  },
  {
   "cell_type": "markdown",
   "metadata": {},
   "source": [
    "=============================================================================="
   ]
  },
  {
   "cell_type": "markdown",
   "metadata": {},
   "source": [
    "Temperature Monitoring System"
   ]
  },
  {
   "cell_type": "code",
   "execution_count": 11,
   "metadata": {},
   "outputs": [
    {
     "name": "stdout",
     "output_type": "stream",
     "text": [
      "Room temperature is normal.\n"
     ]
    }
   ],
   "source": [
    "room_temp = float(input(\"Enter the room temperature: \")) \n",
    "\n",
    "thresold_min = 10 \n",
    "thresold_max = 45 \n",
    "\n",
    "if  thresold_min <= room_temp  and room_temp  <= thresold_max:\n",
    "    print(\"Room temperature is normal.\")\n",
    "\n",
    "if room_temp < thresold_min:\n",
    "    print(\"Alert!!!!!  Room temperature is too cold.\")\n",
    "\n",
    "if room_temp > thresold_max:\n",
    "    print(\"Alert!!!! Room temperature is too hot.\")"
   ]
  }
 ],
 "metadata": {
  "kernelspec": {
   "display_name": "Python 3",
   "language": "python",
   "name": "python3"
  },
  "language_info": {
   "codemirror_mode": {
    "name": "ipython",
    "version": 3
   },
   "file_extension": ".py",
   "mimetype": "text/x-python",
   "name": "python",
   "nbconvert_exporter": "python",
   "pygments_lexer": "ipython3",
   "version": "3.13.3"
  }
 },
 "nbformat": 4,
 "nbformat_minor": 2
}

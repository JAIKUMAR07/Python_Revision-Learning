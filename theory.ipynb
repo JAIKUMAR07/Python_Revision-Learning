{
 "cells": [
  {
   "cell_type": "markdown",
   "metadata": {},
   "source": [
    "🔍 What is enumerate() in Python?\n",
    "enumerate() is a built-in Python function that adds a counter/index to an iterable (like a list, tuple, or string) and returns it as an enumerate object.\n",
    "\n",
    "🧠 Why use enumerate()?\n",
    "When you loop through a list and want both:\n",
    "\n",
    "1. The index/position (like 0, 1, 2...)\n",
    "2. The actual item/value\n",
    "\n",
    "syntax :\n",
    "enumerate(iterable, start=0)\n",
    "\n",
    "-iterable: any sequence (like list, tuple, etc.)\n",
    "-start: optional, the starting index (default is 0)\n",
    "\n",
    "\n",
    "💡 Example:\n",
    " \n",
    "items = [\"Regression\", \"Classification\", \"Clustering\"]\n",
    "\n",
    "for index, value in enumerate(items):\n",
    "    print(index, value)\n",
    "Output:\n",
    "Copy\n",
    "Edit\n",
    "0 Regression\n",
    "1 Classification\n",
    "2 Clustering\n"
   ]
  },
  {
   "cell_type": "raw",
   "metadata": {
    "vscode": {
     "languageId": "raw"
    }
   },
   "source": [
    "#instead of this \n",
    "i = 0\n",
    "for item in items:\n",
    "    print(i, item)\n",
    "    i += 1\n",
    "\n",
    "#use this\n",
    "for i, item in enumerate(items):\n",
    "    print(i, item)\n",
    "\n"
   ]
  }
 ],
 "metadata": {
  "kernelspec": {
   "display_name": "Python 3",
   "language": "python",
   "name": "python3"
  },
  "language_info": {
   "codemirror_mode": {
    "name": "ipython",
    "version": 3
   },
   "file_extension": ".py",
   "mimetype": "text/x-python",
   "name": "python",
   "nbconvert_exporter": "python",
   "pygments_lexer": "ipython3",
   "version": "3.13.3"
  }
 },
 "nbformat": 4,
 "nbformat_minor": 2
}
